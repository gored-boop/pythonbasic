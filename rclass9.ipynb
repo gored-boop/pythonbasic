{
 "cells": [
  {
   "cell_type": "code",
   "execution_count": 15,
   "id": "handled-description",
   "metadata": {},
   "outputs": [
    {
     "name": "stderr",
     "output_type": "stream",
     "text": [
      "Warning message:\n",
      "\"package 'ggplot' is not available (for R version 3.6.1)\""
     ]
    }
   ],
   "source": [
    "library(readxl)\n",
    "library(dplyr)\n",
    "customer_r <- read_excel(\"customer_r.xlsx\")\n",
    "reservation_r <- read_excel(\"reservation_r.xlsx\")\n",
    "order_info_r <- read_excel(\"order_info_r.xlsx\")\n",
    "item_r <- read_excel(\"item_r.xlsx\")\n",
    "colnames(customer_r) <- tolower(colnames(customer_r))\n",
    "colnames(reservation_r) <- tolower(colnames(reservation_r))\n",
    "colnames(order_info_r) <- tolower(colnames(order_info_r))\n",
    "colnames(item_r) <- tolower(colnames(item_r))\n",
    "\n",
    "install.packages('ggplot')"
   ]
  },
  {
   "cell_type": "code",
   "execution_count": 16,
   "id": "separate-shadow",
   "metadata": {},
   "outputs": [
    {
     "data": {
      "text/html": [
       "<table>\n",
       "<thead><tr><th scope=col>item_id</th><th scope=col>reserv_month</th><th scope=col>avg_sales</th></tr></thead>\n",
       "<tbody>\n",
       "\t<tr><td>M0001    </td><td>201906   </td><td> 48000.00</td></tr>\n",
       "\t<tr><td>M0001    </td><td>201907   </td><td> 68000.00</td></tr>\n",
       "\t<tr><td>M0001    </td><td>201908   </td><td> 56000.00</td></tr>\n",
       "\t<tr><td>M0001    </td><td>201909   </td><td> 66000.00</td></tr>\n",
       "\t<tr><td>M0001    </td><td>201910   </td><td> 92000.00</td></tr>\n",
       "\t<tr><td>M0001    </td><td>201911   </td><td> 68307.69</td></tr>\n",
       "\t<tr><td>M0001    </td><td>201912   </td><td>153142.86</td></tr>\n",
       "\t<tr><td>M0002    </td><td>201906   </td><td> 24000.00</td></tr>\n",
       "\t<tr><td>M0002    </td><td>201907   </td><td> 38000.00</td></tr>\n",
       "\t<tr><td>M0002    </td><td>201908   </td><td> 21600.00</td></tr>\n",
       "\t<tr><td>M0002    </td><td>201909   </td><td> 24000.00</td></tr>\n",
       "\t<tr><td>M0002    </td><td>201910   </td><td> 37333.33</td></tr>\n",
       "\t<tr><td>M0002    </td><td>201911   </td><td> 49200.00</td></tr>\n",
       "\t<tr><td>M0002    </td><td>201912   </td><td> 34736.84</td></tr>\n",
       "\t<tr><td>M0003    </td><td>201907   </td><td> 25500.00</td></tr>\n",
       "\t<tr><td>M0003    </td><td>201908   </td><td> 27200.00</td></tr>\n",
       "\t<tr><td>M0003    </td><td>201909   </td><td> 29750.00</td></tr>\n",
       "\t<tr><td>M0003    </td><td>201910   </td><td> 48875.00</td></tr>\n",
       "\t<tr><td>M0003    </td><td>201911   </td><td> 36266.67</td></tr>\n",
       "\t<tr><td>M0003    </td><td>201912   </td><td> 31875.00</td></tr>\n",
       "\t<tr><td>M0004    </td><td>201907   </td><td> 58333.33</td></tr>\n",
       "\t<tr><td>M0004    </td><td>201908   </td><td> 56250.00</td></tr>\n",
       "\t<tr><td>M0004    </td><td>201909   </td><td> 75000.00</td></tr>\n",
       "\t<tr><td>M0004    </td><td>201910   </td><td> 66666.67</td></tr>\n",
       "\t<tr><td>M0004    </td><td>201911   </td><td> 85000.00</td></tr>\n",
       "\t<tr><td>M0004    </td><td>201912   </td><td> 60000.00</td></tr>\n",
       "\t<tr><td>M0005    </td><td>201906   </td><td>128333.33</td></tr>\n",
       "\t<tr><td>M0005    </td><td>201907   </td><td>105000.00</td></tr>\n",
       "\t<tr><td>M0005    </td><td>201908   </td><td> 91000.00</td></tr>\n",
       "\t<tr><td>M0005    </td><td>201909   </td><td> 70000.00</td></tr>\n",
       "\t<tr><td>...</td><td>...</td><td>...</td></tr>\n",
       "\t<tr><td>M0006   </td><td>201909  </td><td>50000.00</td></tr>\n",
       "\t<tr><td>M0006   </td><td>201910  </td><td>70833.33</td></tr>\n",
       "\t<tr><td>M0006   </td><td>201911  </td><td>80000.00</td></tr>\n",
       "\t<tr><td>M0006   </td><td>201912  </td><td>75000.00</td></tr>\n",
       "\t<tr><td>M0007   </td><td>201906  </td><td>30000.00</td></tr>\n",
       "\t<tr><td>M0007   </td><td>201908  </td><td>15000.00</td></tr>\n",
       "\t<tr><td>M0007   </td><td>201909  </td><td>45000.00</td></tr>\n",
       "\t<tr><td>M0007   </td><td>201910  </td><td>45000.00</td></tr>\n",
       "\t<tr><td>M0007   </td><td>201911  </td><td>26250.00</td></tr>\n",
       "\t<tr><td>M0007   </td><td>201912  </td><td>50000.00</td></tr>\n",
       "\t<tr><td>M0008   </td><td>201906  </td><td>10000.00</td></tr>\n",
       "\t<tr><td>M0008   </td><td>201907  </td><td>17500.00</td></tr>\n",
       "\t<tr><td>M0008   </td><td>201908  </td><td>18000.00</td></tr>\n",
       "\t<tr><td>M0008   </td><td>201909  </td><td>15000.00</td></tr>\n",
       "\t<tr><td>M0008   </td><td>201910  </td><td>13333.33</td></tr>\n",
       "\t<tr><td>M0008   </td><td>201911  </td><td>21428.57</td></tr>\n",
       "\t<tr><td>M0008   </td><td>201912  </td><td>16923.08</td></tr>\n",
       "\t<tr><td>M0009   </td><td>201906  </td><td> 8000.00</td></tr>\n",
       "\t<tr><td>M0009   </td><td>201908  </td><td>13333.33</td></tr>\n",
       "\t<tr><td>M0009   </td><td>201909  </td><td>16000.00</td></tr>\n",
       "\t<tr><td>M0009   </td><td>201910  </td><td>32000.00</td></tr>\n",
       "\t<tr><td>M0009   </td><td>201911  </td><td>50666.67</td></tr>\n",
       "\t<tr><td>M0009   </td><td>201912  </td><td>35076.92</td></tr>\n",
       "\t<tr><td>M0010   </td><td>201906  </td><td>12000.00</td></tr>\n",
       "\t<tr><td>M0010   </td><td>201907  </td><td>12000.00</td></tr>\n",
       "\t<tr><td>M0010   </td><td>201908  </td><td>21000.00</td></tr>\n",
       "\t<tr><td>M0010   </td><td>201909  </td><td>24000.00</td></tr>\n",
       "\t<tr><td>M0010   </td><td>201910  </td><td>25500.00</td></tr>\n",
       "\t<tr><td>M0010   </td><td>201911  </td><td>34800.00</td></tr>\n",
       "\t<tr><td>M0010   </td><td>201912  </td><td>15000.00</td></tr>\n",
       "</tbody>\n",
       "</table>\n"
      ],
      "text/latex": [
       "\\begin{tabular}{r|lll}\n",
       " item\\_id & reserv\\_month & avg\\_sales\\\\\n",
       "\\hline\n",
       "\t M0001     & 201906    &  48000.00\\\\\n",
       "\t M0001     & 201907    &  68000.00\\\\\n",
       "\t M0001     & 201908    &  56000.00\\\\\n",
       "\t M0001     & 201909    &  66000.00\\\\\n",
       "\t M0001     & 201910    &  92000.00\\\\\n",
       "\t M0001     & 201911    &  68307.69\\\\\n",
       "\t M0001     & 201912    & 153142.86\\\\\n",
       "\t M0002     & 201906    &  24000.00\\\\\n",
       "\t M0002     & 201907    &  38000.00\\\\\n",
       "\t M0002     & 201908    &  21600.00\\\\\n",
       "\t M0002     & 201909    &  24000.00\\\\\n",
       "\t M0002     & 201910    &  37333.33\\\\\n",
       "\t M0002     & 201911    &  49200.00\\\\\n",
       "\t M0002     & 201912    &  34736.84\\\\\n",
       "\t M0003     & 201907    &  25500.00\\\\\n",
       "\t M0003     & 201908    &  27200.00\\\\\n",
       "\t M0003     & 201909    &  29750.00\\\\\n",
       "\t M0003     & 201910    &  48875.00\\\\\n",
       "\t M0003     & 201911    &  36266.67\\\\\n",
       "\t M0003     & 201912    &  31875.00\\\\\n",
       "\t M0004     & 201907    &  58333.33\\\\\n",
       "\t M0004     & 201908    &  56250.00\\\\\n",
       "\t M0004     & 201909    &  75000.00\\\\\n",
       "\t M0004     & 201910    &  66666.67\\\\\n",
       "\t M0004     & 201911    &  85000.00\\\\\n",
       "\t M0004     & 201912    &  60000.00\\\\\n",
       "\t M0005     & 201906    & 128333.33\\\\\n",
       "\t M0005     & 201907    & 105000.00\\\\\n",
       "\t M0005     & 201908    &  91000.00\\\\\n",
       "\t M0005     & 201909    &  70000.00\\\\\n",
       "\t ... & ... & ...\\\\\n",
       "\t M0006    & 201909   & 50000.00\\\\\n",
       "\t M0006    & 201910   & 70833.33\\\\\n",
       "\t M0006    & 201911   & 80000.00\\\\\n",
       "\t M0006    & 201912   & 75000.00\\\\\n",
       "\t M0007    & 201906   & 30000.00\\\\\n",
       "\t M0007    & 201908   & 15000.00\\\\\n",
       "\t M0007    & 201909   & 45000.00\\\\\n",
       "\t M0007    & 201910   & 45000.00\\\\\n",
       "\t M0007    & 201911   & 26250.00\\\\\n",
       "\t M0007    & 201912   & 50000.00\\\\\n",
       "\t M0008    & 201906   & 10000.00\\\\\n",
       "\t M0008    & 201907   & 17500.00\\\\\n",
       "\t M0008    & 201908   & 18000.00\\\\\n",
       "\t M0008    & 201909   & 15000.00\\\\\n",
       "\t M0008    & 201910   & 13333.33\\\\\n",
       "\t M0008    & 201911   & 21428.57\\\\\n",
       "\t M0008    & 201912   & 16923.08\\\\\n",
       "\t M0009    & 201906   &  8000.00\\\\\n",
       "\t M0009    & 201908   & 13333.33\\\\\n",
       "\t M0009    & 201909   & 16000.00\\\\\n",
       "\t M0009    & 201910   & 32000.00\\\\\n",
       "\t M0009    & 201911   & 50666.67\\\\\n",
       "\t M0009    & 201912   & 35076.92\\\\\n",
       "\t M0010    & 201906   & 12000.00\\\\\n",
       "\t M0010    & 201907   & 12000.00\\\\\n",
       "\t M0010    & 201908   & 21000.00\\\\\n",
       "\t M0010    & 201909   & 24000.00\\\\\n",
       "\t M0010    & 201910   & 25500.00\\\\\n",
       "\t M0010    & 201911   & 34800.00\\\\\n",
       "\t M0010    & 201912   & 15000.00\\\\\n",
       "\\end{tabular}\n"
      ],
      "text/markdown": [
       "\n",
       "| item_id | reserv_month | avg_sales |\n",
       "|---|---|---|\n",
       "| M0001     | 201906    |  48000.00 |\n",
       "| M0001     | 201907    |  68000.00 |\n",
       "| M0001     | 201908    |  56000.00 |\n",
       "| M0001     | 201909    |  66000.00 |\n",
       "| M0001     | 201910    |  92000.00 |\n",
       "| M0001     | 201911    |  68307.69 |\n",
       "| M0001     | 201912    | 153142.86 |\n",
       "| M0002     | 201906    |  24000.00 |\n",
       "| M0002     | 201907    |  38000.00 |\n",
       "| M0002     | 201908    |  21600.00 |\n",
       "| M0002     | 201909    |  24000.00 |\n",
       "| M0002     | 201910    |  37333.33 |\n",
       "| M0002     | 201911    |  49200.00 |\n",
       "| M0002     | 201912    |  34736.84 |\n",
       "| M0003     | 201907    |  25500.00 |\n",
       "| M0003     | 201908    |  27200.00 |\n",
       "| M0003     | 201909    |  29750.00 |\n",
       "| M0003     | 201910    |  48875.00 |\n",
       "| M0003     | 201911    |  36266.67 |\n",
       "| M0003     | 201912    |  31875.00 |\n",
       "| M0004     | 201907    |  58333.33 |\n",
       "| M0004     | 201908    |  56250.00 |\n",
       "| M0004     | 201909    |  75000.00 |\n",
       "| M0004     | 201910    |  66666.67 |\n",
       "| M0004     | 201911    |  85000.00 |\n",
       "| M0004     | 201912    |  60000.00 |\n",
       "| M0005     | 201906    | 128333.33 |\n",
       "| M0005     | 201907    | 105000.00 |\n",
       "| M0005     | 201908    |  91000.00 |\n",
       "| M0005     | 201909    |  70000.00 |\n",
       "| ... | ... | ... |\n",
       "| M0006    | 201909   | 50000.00 |\n",
       "| M0006    | 201910   | 70833.33 |\n",
       "| M0006    | 201911   | 80000.00 |\n",
       "| M0006    | 201912   | 75000.00 |\n",
       "| M0007    | 201906   | 30000.00 |\n",
       "| M0007    | 201908   | 15000.00 |\n",
       "| M0007    | 201909   | 45000.00 |\n",
       "| M0007    | 201910   | 45000.00 |\n",
       "| M0007    | 201911   | 26250.00 |\n",
       "| M0007    | 201912   | 50000.00 |\n",
       "| M0008    | 201906   | 10000.00 |\n",
       "| M0008    | 201907   | 17500.00 |\n",
       "| M0008    | 201908   | 18000.00 |\n",
       "| M0008    | 201909   | 15000.00 |\n",
       "| M0008    | 201910   | 13333.33 |\n",
       "| M0008    | 201911   | 21428.57 |\n",
       "| M0008    | 201912   | 16923.08 |\n",
       "| M0009    | 201906   |  8000.00 |\n",
       "| M0009    | 201908   | 13333.33 |\n",
       "| M0009    | 201909   | 16000.00 |\n",
       "| M0009    | 201910   | 32000.00 |\n",
       "| M0009    | 201911   | 50666.67 |\n",
       "| M0009    | 201912   | 35076.92 |\n",
       "| M0010    | 201906   | 12000.00 |\n",
       "| M0010    | 201907   | 12000.00 |\n",
       "| M0010    | 201908   | 21000.00 |\n",
       "| M0010    | 201909   | 24000.00 |\n",
       "| M0010    | 201910   | 25500.00 |\n",
       "| M0010    | 201911   | 34800.00 |\n",
       "| M0010    | 201912   | 15000.00 |\n",
       "\n"
      ],
      "text/plain": [
       "    item_id reserv_month avg_sales\n",
       "1   M0001   201906        48000.00\n",
       "2   M0001   201907        68000.00\n",
       "3   M0001   201908        56000.00\n",
       "4   M0001   201909        66000.00\n",
       "5   M0001   201910        92000.00\n",
       "6   M0001   201911        68307.69\n",
       "7   M0001   201912       153142.86\n",
       "8   M0002   201906        24000.00\n",
       "9   M0002   201907        38000.00\n",
       "10  M0002   201908        21600.00\n",
       "11  M0002   201909        24000.00\n",
       "12  M0002   201910        37333.33\n",
       "13  M0002   201911        49200.00\n",
       "14  M0002   201912        34736.84\n",
       "15  M0003   201907        25500.00\n",
       "16  M0003   201908        27200.00\n",
       "17  M0003   201909        29750.00\n",
       "18  M0003   201910        48875.00\n",
       "19  M0003   201911        36266.67\n",
       "20  M0003   201912        31875.00\n",
       "21  M0004   201907        58333.33\n",
       "22  M0004   201908        56250.00\n",
       "23  M0004   201909        75000.00\n",
       "24  M0004   201910        66666.67\n",
       "25  M0004   201911        85000.00\n",
       "26  M0004   201912        60000.00\n",
       "27  M0005   201906       128333.33\n",
       "28  M0005   201907       105000.00\n",
       "29  M0005   201908        91000.00\n",
       "30  M0005   201909        70000.00\n",
       "... ...     ...          ...      \n",
       "36  M0006   201909       50000.00 \n",
       "37  M0006   201910       70833.33 \n",
       "38  M0006   201911       80000.00 \n",
       "39  M0006   201912       75000.00 \n",
       "40  M0007   201906       30000.00 \n",
       "41  M0007   201908       15000.00 \n",
       "42  M0007   201909       45000.00 \n",
       "43  M0007   201910       45000.00 \n",
       "44  M0007   201911       26250.00 \n",
       "45  M0007   201912       50000.00 \n",
       "46  M0008   201906       10000.00 \n",
       "47  M0008   201907       17500.00 \n",
       "48  M0008   201908       18000.00 \n",
       "49  M0008   201909       15000.00 \n",
       "50  M0008   201910       13333.33 \n",
       "51  M0008   201911       21428.57 \n",
       "52  M0008   201912       16923.08 \n",
       "53  M0009   201906        8000.00 \n",
       "54  M0009   201908       13333.33 \n",
       "55  M0009   201909       16000.00 \n",
       "56  M0009   201910       32000.00 \n",
       "57  M0009   201911       50666.67 \n",
       "58  M0009   201912       35076.92 \n",
       "59  M0010   201906       12000.00 \n",
       "60  M0010   201907       12000.00 \n",
       "61  M0010   201908       21000.00 \n",
       "62  M0010   201909       24000.00 \n",
       "63  M0010   201910       25500.00 \n",
       "64  M0010   201911       34800.00 \n",
       "65  M0010   201912       15000.00 "
      ]
     },
     "metadata": {},
     "output_type": "display_data"
    }
   ],
   "source": [
    "my_first_cook <- order_info_r %>% \n",
    "mutate(reserv_month = substr(reserv_no, 1, 6)) %>% \n",
    "group_by(item_id, reserv_month) %>% \n",
    "summarise(avg_sales = mean(sales)) %>% \n",
    "arrange(item_id, reserv_month)\n",
    "\n",
    "my_first_cook"
   ]
  },
  {
   "cell_type": "code",
   "execution_count": 21,
   "id": "criminal-tenant",
   "metadata": {},
   "outputs": [
    {
     "name": "stderr",
     "output_type": "stream",
     "text": [
      "Warning message:\n",
      "\"package 'ggplot2' was built under R version 3.6.3\""
     ]
    }
   ],
   "source": [
    "library(ggplot2)"
   ]
  },
  {
   "cell_type": "code",
   "execution_count": 22,
   "id": "hollywood-fishing",
   "metadata": {},
   "outputs": [
    {
     "data": {
      "image/png": "[encoded data removed]",
      "text/plain": [
       "plot without title"
      ]
     },
     "metadata": {},
     "output_type": "display_data"
    }
   ],
   "source": [
    "ggplot(my_first_cook, aes(x = reserv_month, y = avg_sales, group = item_id, color = item_id)) +\n",
    "    geom_line(size = 1) +\n",
    "    geom_point(color = \"darkorange\", size = 1.5) +\n",
    "    scale_color_brewer(palette = \"Paired\") +\n",
    "    labs(title = \"메뉴 아이템별 월 평균 매출 추이\", x = \"월\", y = \"매출\")"
   ]
  },
  {
   "cell_type": "code",
   "execution_count": 23,
   "id": "graphic-powder",
   "metadata": {},
   "outputs": [],
   "source": [
    "weight <- c(74, 66, 61, 59, 70) #학생 A 집단의 몸무게"
   ]
  },
  {
   "cell_type": "code",
   "execution_count": 24,
   "id": "collected-layer",
   "metadata": {},
   "outputs": [
    {
     "data": {
      "text/html": [
       "66"
      ],
      "text/latex": [
       "66"
      ],
      "text/markdown": [
       "66"
      ],
      "text/plain": [
       "[1] 66"
      ]
     },
     "metadata": {},
     "output_type": "display_data"
    }
   ],
   "source": [
    "mean(weight) #평균값"
   ]
  },
  {
   "cell_type": "code",
   "execution_count": 32,
   "id": "balanced-niagara",
   "metadata": {
    "scrolled": false
   },
   "outputs": [
    {
     "data": {
      "text/html": [
       "66.0035099440866"
      ],
      "text/latex": [
       "66.0035099440866"
      ],
      "text/markdown": [
       "66.0035099440866"
      ],
      "text/plain": [
       "[1] 66.00351"
      ]
     },
     "metadata": {},
     "output_type": "display_data"
    }
   ],
   "source": []
  },
  {
   "cell_type": "code",
   "execution_count": 26,
   "id": "stainless-integer",
   "metadata": {},
   "outputs": [
    {
     "data": {
      "text/html": [
       "66"
      ],
      "text/latex": [
       "66"
      ],
      "text/markdown": [
       "66"
      ],
      "text/plain": [
       "[1] 66"
      ]
     },
     "metadata": {},
     "output_type": "display_data"
    }
   ],
   "source": [
    "median(weight) # 중앙값(74,70,66,61,59) 의 정중앙값."
   ]
  },
  {
   "cell_type": "code",
   "execution_count": 27,
   "id": "assumed-exhibit",
   "metadata": {},
   "outputs": [
    {
     "data": {
      "text/html": [
       "38.5"
      ],
      "text/latex": [
       "38.5"
      ],
      "text/markdown": [
       "38.5"
      ],
      "text/plain": [
       "[1] 38.5"
      ]
     },
     "metadata": {},
     "output_type": "display_data"
    }
   ],
   "source": [
    "var(weight) #분산"
   ]
  },
  {
   "cell_type": "code",
   "execution_count": 28,
   "id": "variable-separation",
   "metadata": {},
   "outputs": [
    {
     "data": {
      "text/html": [
       "6.20483682299543"
      ],
      "text/latex": [
       "6.20483682299543"
      ],
      "text/markdown": [
       "6.20483682299543"
      ],
      "text/plain": [
       "[1] 6.204837"
      ]
     },
     "metadata": {},
     "output_type": "display_data"
    }
   ],
   "source": [
    "sd(weight) #표준편차"
   ]
  },
  {
   "cell_type": "code",
   "execution_count": 30,
   "id": "buried-skating",
   "metadata": {},
   "outputs": [],
   "source": [
    "weight <- rnorm(n = 100000, mean = 66, sd = 5)"
   ]
  },
  {
   "cell_type": "code",
   "execution_count": 34,
   "id": "related-watch",
   "metadata": {},
   "outputs": [
    {
     "data": {
      "image/png": "[encoded data removed]",
      "text/plain": [
       "Plot with title \"Histogram of weight\""
      ]
     },
     "metadata": {},
     "output_type": "display_data"
    }
   ],
   "source": [
    "hist(weight, breaks = 100, freq = FALSE)"
   ]
  },
  {
   "cell_type": "code",
   "execution_count": 36,
   "id": "alternate-fossil",
   "metadata": {},
   "outputs": [
    {
     "ename": "ERROR",
     "evalue": "Error in plot.xy(xy.coords(x, y), type = type, ...): plot.new has not been called yet\n",
     "output_type": "error",
     "traceback": [
      "Error in plot.xy(xy.coords(x, y), type = type, ...): plot.new has not been called yet\nTraceback:\n",
      "1. lines(density(weight))",
      "2. lines.default(density(weight))",
      "3. plot.xy(xy.coords(x, y), type = type, ...)"
     ]
    }
   ],
   "source": [
    "lines(density(weight))"
   ]
  },
  {
   "cell_type": "code",
   "execution_count": 37,
   "id": "developmental-closing",
   "metadata": {},
   "outputs": [],
   "source": [
    "library(dplyr)\n",
    "library(ggplot2)"
   ]
  },
  {
   "cell_type": "code",
   "execution_count": 38,
   "id": "moderate-batman",
   "metadata": {},
   "outputs": [
    {
     "data": {
      "text/plain": [
       "\n",
       "  강남   강동   강북   강서   관악   광진   구로   금천   노원   도봉 동대문 \n",
       "    49     18     12     22     15      8     14     10     10      6     20 \n",
       "  동작   마포 서대문   서초   성동   성북   송파   양천 영등포   용산   은평 \n",
       "    21     22     20     22     13      4     17     10     17     19     10 \n",
       "  종로   중구   중랑 \n",
       "    13     18      6 "
      ]
     },
     "metadata": {},
     "output_type": "display_data"
    }
   ],
   "source": [
    "table(reservation_r$branch)"
   ]
  },
  {
   "cell_type": "code",
   "execution_count": 39,
   "id": "valid-coupon",
   "metadata": {},
   "outputs": [],
   "source": [
    "no_cancel_data <- reservation_r %>% filter(cancel == 'N')"
   ]
  },
  {
   "cell_type": "code",
   "execution_count": 40,
   "id": "catholic-slope",
   "metadata": {},
   "outputs": [
    {
     "data": {
      "text/plain": [
       "\n",
       "  강남   강동   강북   강서   관악   광진   구로   금천   노원   도봉 동대문 \n",
       "    41     17     12     19     15      8     11      7      8      5     14 \n",
       "  동작   마포 서대문   서초   성동   성북   송파   양천 영등포   용산   은평 \n",
       "    18     20     18     17     12      4     15      8     16     18      8 \n",
       "  종로   중구   중랑 \n",
       "     7     15      4 "
      ]
     },
     "metadata": {},
     "output_type": "display_data"
    }
   ],
   "source": [
    "table(no_cancel_data$branch)"
   ]
  },
  {
   "cell_type": "code",
   "execution_count": 41,
   "id": "fuzzy-appliance",
   "metadata": {},
   "outputs": [],
   "source": [
    "df_f_join_1 <- inner_join(reservation_r, order_info_r, by = 'reserv_no')"
   ]
  },
  {
   "cell_type": "code",
   "execution_count": 42,
   "id": "loving-parameter",
   "metadata": {},
   "outputs": [],
   "source": [
    "df_f_join_2 <- inner_join(df_f_join_1, item_r, by = 'item_id')"
   ]
  },
  {
   "cell_type": "code",
   "execution_count": 43,
   "id": "unable-vampire",
   "metadata": {},
   "outputs": [
    {
     "data": {
      "text/html": [
       "<table>\n",
       "<thead><tr><th scope=col>reserv_no</th><th scope=col>reserv_date</th><th scope=col>reserv_time</th><th scope=col>customer_id</th><th scope=col>branch</th><th scope=col>visitor_cnt</th><th scope=col>cancel</th><th scope=col>order_no</th><th scope=col>item_id</th><th scope=col>quantity</th><th scope=col>sales</th><th scope=col>product_name</th><th scope=col>product_desc</th><th scope=col>category_id</th><th scope=col>price</th></tr></thead>\n",
       "<tbody>\n",
       "\t<tr><td>2019082701        </td><td>20190827          </td><td>1800              </td><td>W1340914          </td><td>마포              </td><td>2                 </td><td>N                 </td><td>190827547272110010</td><td>M0001             </td><td>2                 </td><td> 48000            </td><td>SPECIAL_SET       </td><td>온라인_전용상품   </td><td>COMBO             </td><td>24000             </td></tr>\n",
       "\t<tr><td>2019082602        </td><td>20190826          </td><td>1200              </td><td>W341658           </td><td>동작              </td><td>5                 </td><td>N                 </td><td>190826137302710010</td><td>M0010             </td><td>5                 </td><td> 30000            </td><td>JUICE             </td><td>주스              </td><td>BEVERAGE          </td><td> 6000             </td></tr>\n",
       "\t<tr><td>2019082601        </td><td>20190826          </td><td>1800              </td><td>W1328993          </td><td>강북              </td><td>4                 </td><td>N                 </td><td>190826137192910010</td><td>M0005             </td><td>4                 </td><td>140000            </td><td>STEAK             </td><td>스테이크          </td><td>FOOD              </td><td>35000             </td></tr>\n",
       "\t<tr><td>2019082501        </td><td>20190825          </td><td>1800              </td><td>W1340463          </td><td>용산              </td><td>2                 </td><td>N                 </td><td>190825107839310010</td><td>M0008             </td><td>2                 </td><td> 20000            </td><td>SANDWICH          </td><td>샌드위치          </td><td>FOOD              </td><td>10000             </td></tr>\n",
       "\t<tr><td>2019082401        </td><td>20190824          </td><td>1200              </td><td>W1344912          </td><td>강동              </td><td>3                 </td><td>N                 </td><td>190824137844710010</td><td>M0006             </td><td>3                 </td><td> 75000            </td><td>SALAD_BAR         </td><td>샐러드바          </td><td>COMBO             </td><td>25000             </td></tr>\n",
       "\t<tr><td>2019082301        </td><td>20190823          </td><td>1800              </td><td>W1344753          </td><td>영등포            </td><td>2                 </td><td>N                 </td><td>190823107844510010</td><td>M0004             </td><td>1                 </td><td> 25000            </td><td>SEA_FOOD          </td><td>씨푸드            </td><td>FOOD              </td><td>25000             </td></tr>\n",
       "</tbody>\n",
       "</table>\n"
      ],
      "text/latex": [
       "\\begin{tabular}{r|lllllllllllllll}\n",
       " reserv\\_no & reserv\\_date & reserv\\_time & customer\\_id & branch & visitor\\_cnt & cancel & order\\_no & item\\_id & quantity & sales & product\\_name & product\\_desc & category\\_id & price\\\\\n",
       "\\hline\n",
       "\t 2019082701         & 20190827           & 1800               & W1340914           & 마포               & 2                  & N                  & 190827547272110010 & M0001              & 2                  &  48000             & SPECIAL\\_SET      & 온라인\\_전용상품  & COMBO              & 24000             \\\\\n",
       "\t 2019082602         & 20190826           & 1200               & W341658            & 동작               & 5                  & N                  & 190826137302710010 & M0010              & 5                  &  30000             & JUICE              & 주스               & BEVERAGE           &  6000             \\\\\n",
       "\t 2019082601         & 20190826           & 1800               & W1328993           & 강북               & 4                  & N                  & 190826137192910010 & M0005              & 4                  & 140000             & STEAK              & 스테이크           & FOOD               & 35000             \\\\\n",
       "\t 2019082501         & 20190825           & 1800               & W1340463           & 용산               & 2                  & N                  & 190825107839310010 & M0008              & 2                  &  20000             & SANDWICH           & 샌드위치           & FOOD               & 10000             \\\\\n",
       "\t 2019082401         & 20190824           & 1200               & W1344912           & 강동               & 3                  & N                  & 190824137844710010 & M0006              & 3                  &  75000             & SALAD\\_BAR        & 샐러드바           & COMBO              & 25000             \\\\\n",
       "\t 2019082301         & 20190823           & 1800               & W1344753           & 영등포             & 2                  & N                  & 190823107844510010 & M0004              & 1                  &  25000             & SEA\\_FOOD         & 씨푸드             & FOOD               & 25000             \\\\\n",
       "\\end{tabular}\n"
      ],
      "text/markdown": [
       "\n",
       "| reserv_no | reserv_date | reserv_time | customer_id | branch | visitor_cnt | cancel | order_no | item_id | quantity | sales | product_name | product_desc | category_id | price |\n",
       "|---|---|---|---|---|---|---|---|---|---|---|---|---|---|---|\n",
       "| 2019082701         | 20190827           | 1800               | W1340914           | 마포               | 2                  | N                  | 190827547272110010 | M0001              | 2                  |  48000             | SPECIAL_SET        | 온라인_전용상품    | COMBO              | 24000              |\n",
       "| 2019082602         | 20190826           | 1200               | W341658            | 동작               | 5                  | N                  | 190826137302710010 | M0010              | 5                  |  30000             | JUICE              | 주스               | BEVERAGE           |  6000              |\n",
       "| 2019082601         | 20190826           | 1800               | W1328993           | 강북               | 4                  | N                  | 190826137192910010 | M0005              | 4                  | 140000             | STEAK              | 스테이크           | FOOD               | 35000              |\n",
       "| 2019082501         | 20190825           | 1800               | W1340463           | 용산               | 2                  | N                  | 190825107839310010 | M0008              | 2                  |  20000             | SANDWICH           | 샌드위치           | FOOD               | 10000              |\n",
       "| 2019082401         | 20190824           | 1200               | W1344912           | 강동               | 3                  | N                  | 190824137844710010 | M0006              | 3                  |  75000             | SALAD_BAR          | 샐러드바           | COMBO              | 25000              |\n",
       "| 2019082301         | 20190823           | 1800               | W1344753           | 영등포             | 2                  | N                  | 190823107844510010 | M0004              | 1                  |  25000             | SEA_FOOD           | 씨푸드             | FOOD               | 25000              |\n",
       "\n"
      ],
      "text/plain": [
       "  reserv_no  reserv_date reserv_time customer_id branch visitor_cnt cancel\n",
       "1 2019082701 20190827    1800        W1340914    마포   2           N     \n",
       "2 2019082602 20190826    1200        W341658     동작   5           N     \n",
       "3 2019082601 20190826    1800        W1328993    강북   4           N     \n",
       "4 2019082501 20190825    1800        W1340463    용산   2           N     \n",
       "5 2019082401 20190824    1200        W1344912    강동   3           N     \n",
       "6 2019082301 20190823    1800        W1344753    영등포 2           N     \n",
       "  order_no           item_id quantity sales  product_name product_desc   \n",
       "1 190827547272110010 M0001   2         48000 SPECIAL_SET  온라인_전용상품\n",
       "2 190826137302710010 M0010   5         30000 JUICE        주스           \n",
       "3 190826137192910010 M0005   4        140000 STEAK        스테이크       \n",
       "4 190825107839310010 M0008   2         20000 SANDWICH     샌드위치       \n",
       "5 190824137844710010 M0006   3         75000 SALAD_BAR    샐러드바       \n",
       "6 190823107844510010 M0004   1         25000 SEA_FOOD     씨푸드         \n",
       "  category_id price\n",
       "1 COMBO       24000\n",
       "2 BEVERAGE     6000\n",
       "3 FOOD        35000\n",
       "4 FOOD        10000\n",
       "5 COMBO       25000\n",
       "6 FOOD        25000"
      ]
     },
     "metadata": {},
     "output_type": "display_data"
    }
   ],
   "source": [
    "head(df_f_join_2)"
   ]
  },
  {
   "cell_type": "code",
   "execution_count": 45,
   "id": "adapted-butter",
   "metadata": {},
   "outputs": [],
   "source": [
    "df_branch_sales <- df_f_join_2 %>%\n",
    "filter(branch == \"강남\" | branch == \"마포\" | branch == \"서초\") %>%\n",
    "group_by(branch, product_name) %>%\n",
    " summarise(sales_amt = sum(sales) / 1000)"
   ]
  },
  {
   "cell_type": "code",
   "execution_count": 46,
   "id": "editorial-roads",
   "metadata": {},
   "outputs": [
    {
     "data": {
      "text/html": [
       "<table>\n",
       "<thead><tr><th scope=col>branch</th><th scope=col>product_name</th><th scope=col>sales_amt</th></tr></thead>\n",
       "<tbody>\n",
       "\t<tr><td>강남       </td><td>JUICE      </td><td>  66       </td></tr>\n",
       "\t<tr><td>강남       </td><td>PASTA      </td><td> 180       </td></tr>\n",
       "\t<tr><td>강남       </td><td>PIZZA      </td><td> 204       </td></tr>\n",
       "\t<tr><td>강남       </td><td>SALAD      </td><td> 105       </td></tr>\n",
       "\t<tr><td>강남       </td><td>SALAD_BAR  </td><td> 200       </td></tr>\n",
       "\t<tr><td>강남       </td><td>SANDWICH   </td><td>  20       </td></tr>\n",
       "\t<tr><td>강남       </td><td>SEA_FOOD   </td><td> 250       </td></tr>\n",
       "\t<tr><td>강남       </td><td>SPECIAL_SET</td><td>1416       </td></tr>\n",
       "\t<tr><td>강남       </td><td>STEAK      </td><td>1505       </td></tr>\n",
       "\t<tr><td>강남       </td><td>WINE       </td><td> 128       </td></tr>\n",
       "\t<tr><td>마포       </td><td>JUICE      </td><td>  12       </td></tr>\n",
       "\t<tr><td>마포       </td><td>PASTA      </td><td>  60       </td></tr>\n",
       "\t<tr><td>마포       </td><td>PIZZA      </td><td> 102       </td></tr>\n",
       "\t<tr><td>마포       </td><td>SALAD_BAR  </td><td> 150       </td></tr>\n",
       "\t<tr><td>마포       </td><td>SANDWICH   </td><td>  70       </td></tr>\n",
       "\t<tr><td>마포       </td><td>SEA_FOOD   </td><td>  50       </td></tr>\n",
       "\t<tr><td>마포       </td><td>SPECIAL_SET</td><td> 264       </td></tr>\n",
       "\t<tr><td>마포       </td><td>STEAK      </td><td> 245       </td></tr>\n",
       "\t<tr><td>서초       </td><td>JUICE      </td><td>  12       </td></tr>\n",
       "\t<tr><td>서초       </td><td>PASTA      </td><td> 192       </td></tr>\n",
       "\t<tr><td>서초       </td><td>PIZZA      </td><td> 119       </td></tr>\n",
       "\t<tr><td>서초       </td><td>SALAD      </td><td>  30       </td></tr>\n",
       "\t<tr><td>서초       </td><td>SALAD_BAR  </td><td> 200       </td></tr>\n",
       "\t<tr><td>서초       </td><td>SANDWICH   </td><td>  10       </td></tr>\n",
       "\t<tr><td>서초       </td><td>SPECIAL_SET</td><td> 312       </td></tr>\n",
       "\t<tr><td>서초       </td><td>STEAK      </td><td> 420       </td></tr>\n",
       "</tbody>\n",
       "</table>\n"
      ],
      "text/latex": [
       "\\begin{tabular}{r|lll}\n",
       " branch & product\\_name & sales\\_amt\\\\\n",
       "\\hline\n",
       "\t 강남        & JUICE       &   66       \\\\\n",
       "\t 강남        & PASTA       &  180       \\\\\n",
       "\t 강남        & PIZZA       &  204       \\\\\n",
       "\t 강남        & SALAD       &  105       \\\\\n",
       "\t 강남          & SALAD\\_BAR   &  200         \\\\\n",
       "\t 강남        & SANDWICH    &   20       \\\\\n",
       "\t 강남          & SEA\\_FOOD    &  250         \\\\\n",
       "\t 강남          & SPECIAL\\_SET & 1416         \\\\\n",
       "\t 강남        & STEAK       & 1505       \\\\\n",
       "\t 강남        & WINE        &  128       \\\\\n",
       "\t 마포        & JUICE       &   12       \\\\\n",
       "\t 마포        & PASTA       &   60       \\\\\n",
       "\t 마포        & PIZZA       &  102       \\\\\n",
       "\t 마포          & SALAD\\_BAR   &  150         \\\\\n",
       "\t 마포        & SANDWICH    &   70       \\\\\n",
       "\t 마포          & SEA\\_FOOD    &   50         \\\\\n",
       "\t 마포          & SPECIAL\\_SET &  264         \\\\\n",
       "\t 마포        & STEAK       &  245       \\\\\n",
       "\t 서초        & JUICE       &   12       \\\\\n",
       "\t 서초        & PASTA       &  192       \\\\\n",
       "\t 서초        & PIZZA       &  119       \\\\\n",
       "\t 서초        & SALAD       &   30       \\\\\n",
       "\t 서초          & SALAD\\_BAR   &  200         \\\\\n",
       "\t 서초        & SANDWICH    &   10       \\\\\n",
       "\t 서초          & SPECIAL\\_SET &  312         \\\\\n",
       "\t 서초        & STEAK       &  420       \\\\\n",
       "\\end{tabular}\n"
      ],
      "text/markdown": [
       "\n",
       "| branch | product_name | sales_amt |\n",
       "|---|---|---|\n",
       "| 강남        | JUICE       |   66        |\n",
       "| 강남        | PASTA       |  180        |\n",
       "| 강남        | PIZZA       |  204        |\n",
       "| 강남        | SALAD       |  105        |\n",
       "| 강남        | SALAD_BAR   |  200        |\n",
       "| 강남        | SANDWICH    |   20        |\n",
       "| 강남        | SEA_FOOD    |  250        |\n",
       "| 강남        | SPECIAL_SET | 1416        |\n",
       "| 강남        | STEAK       | 1505        |\n",
       "| 강남        | WINE        |  128        |\n",
       "| 마포        | JUICE       |   12        |\n",
       "| 마포        | PASTA       |   60        |\n",
       "| 마포        | PIZZA       |  102        |\n",
       "| 마포        | SALAD_BAR   |  150        |\n",
       "| 마포        | SANDWICH    |   70        |\n",
       "| 마포        | SEA_FOOD    |   50        |\n",
       "| 마포        | SPECIAL_SET |  264        |\n",
       "| 마포        | STEAK       |  245        |\n",
       "| 서초        | JUICE       |   12        |\n",
       "| 서초        | PASTA       |  192        |\n",
       "| 서초        | PIZZA       |  119        |\n",
       "| 서초        | SALAD       |   30        |\n",
       "| 서초        | SALAD_BAR   |  200        |\n",
       "| 서초        | SANDWICH    |   10        |\n",
       "| 서초        | SPECIAL_SET |  312        |\n",
       "| 서초        | STEAK       |  420        |\n",
       "\n"
      ],
      "text/plain": [
       "   branch product_name sales_amt\n",
       "1  강남   JUICE          66     \n",
       "2  강남   PASTA         180     \n",
       "3  강남   PIZZA         204     \n",
       "4  강남   SALAD         105     \n",
       "5  강남   SALAD_BAR     200     \n",
       "6  강남   SANDWICH       20     \n",
       "7  강남   SEA_FOOD      250     \n",
       "8  강남   SPECIAL_SET  1416     \n",
       "9  강남   STEAK        1505     \n",
       "10 강남   WINE          128     \n",
       "11 마포   JUICE          12     \n",
       "12 마포   PASTA          60     \n",
       "13 마포   PIZZA         102     \n",
       "14 마포   SALAD_BAR     150     \n",
       "15 마포   SANDWICH       70     \n",
       "16 마포   SEA_FOOD       50     \n",
       "17 마포   SPECIAL_SET   264     \n",
       "18 마포   STEAK         245     \n",
       "19 서초   JUICE          12     \n",
       "20 서초   PASTA         192     \n",
       "21 서초   PIZZA         119     \n",
       "22 서초   SALAD          30     \n",
       "23 서초   SALAD_BAR     200     \n",
       "24 서초   SANDWICH       10     \n",
       "25 서초   SPECIAL_SET   312     \n",
       "26 서초   STEAK         420     "
      ]
     },
     "metadata": {},
     "output_type": "display_data"
    }
   ],
   "source": [
    "df_branch_sales"
   ]
  },
  {
   "cell_type": "code",
   "execution_count": null,
   "id": "marked-syntax",
   "metadata": {},
   "outputs": [],
   "source": []
  }
 ],
 "metadata": {
  "kernelspec": {
   "display_name": "R",
   "language": "R",
   "name": "ir"
  },
  "language_info": {
   "codemirror_mode": "r",
   "file_extension": ".r",
   "mimetype": "text/x-r-source",
   "name": "R",
   "pygments_lexer": "r",
   "version": "3.6.1"
  }
 },
 "nbformat": 4,
 "nbformat_minor": 5
}
