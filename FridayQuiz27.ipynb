{
  "nbformat": 4,
  "nbformat_minor": 0,
  "metadata": {
    "colab": {
      "name": "FridayQuiz27.ipynb",
      "provenance": [],
      "collapsed_sections": [],
      "authorship_tag": "ABX9TyPqx2kiSsE4QedUONvMjssw",
      "include_colab_link": true
    },
    "kernelspec": {
      "name": "python3",
      "display_name": "Python 3"
    }
  },
  "cells": [
    {
      "cell_type": "markdown",
      "metadata": {
        "id": "view-in-github",
        "colab_type": "text"
      },
      "source": [
        "<a href=\"https://colab.research.google.com/github/gored-boop/pythonbasic/blob/main/FridayQuiz27.ipynb\" target=\"_parent\"><img src=\"https://colab.research.google.com/assets/colab-badge.svg\" alt=\"Open In Colab\"/></a>"
      ]
    },
    {
      "cell_type": "code",
      "metadata": {
        "id": "_qGTlBVwwzv9",
        "colab": {
          "base_uri": "https://localhost:8080/"
        },
        "outputId": "d49aafe1-c452-4ed5-eddd-88143bc7b97f"
      },
      "source": [
        "# 데이터 입력 받아서 처리\r\n",
        "\r\n",
        "a = input().split()\r\n",
        "print(a)"
      ],
      "execution_count": 14,
      "outputs": [
        {
          "output_type": "stream",
          "text": [
            "60 70\n",
            "['60', '70']\n"
          ],
          "name": "stdout"
        }
      ]
    },
    {
      "cell_type": "code",
      "metadata": {
        "colab": {
          "base_uri": "https://localhost:8080/"
        },
        "id": "5kyXgBjh0zIb",
        "outputId": "c18aed6f-fb46-42ec-bf5d-70e50e293526"
      },
      "source": [
        "# 숫자로 입력받아서 처리\r\n",
        "a = map(int,input().split())\r\n",
        "print(a)"
      ],
      "execution_count": 16,
      "outputs": [
        {
          "output_type": "stream",
          "text": [
            "30 40\n",
            "<map object at 0x7f2193f4c7d0>\n"
          ],
          "name": "stdout"
        }
      ]
    },
    {
      "cell_type": "code",
      "metadata": {
        "colab": {
          "base_uri": "https://localhost:8080/"
        },
        "id": "sZ8VFyL5yCMa",
        "outputId": "21627ced-8a09-4f1d-82bd-3226c43c9969"
      },
      "source": [
        "a = [1,2,3,4]\r\n",
        "b = [100,200,300,400]\r\n",
        "\r\n",
        "print(list(zip(a,b)))"
      ],
      "execution_count": 20,
      "outputs": [
        {
          "output_type": "stream",
          "text": [
            "[(1, 100), (2, 200), (3, 300), (4, 400)]\n"
          ],
          "name": "stdout"
        }
      ]
    },
    {
      "cell_type": "code",
      "metadata": {
        "colab": {
          "base_uri": "https://localhost:8080/"
        },
        "id": "185XDDA1yDgX",
        "outputId": "89306d25-0efc-4e86-af90-2fa7aac1b2d2"
      },
      "source": [
        "# Quiz 27\r\n",
        "\r\n",
        "key = input().split()\r\n",
        "value = map(int,input().split())\r\n",
        "\r\n",
        "print(dict(zip(key,value)))"
      ],
      "execution_count": 21,
      "outputs": [
        {
          "output_type": "stream",
          "text": [
            "Yujin Hyewon\n",
            "70 100\n",
            "{'Yujin': 70, 'Hyewon': 100}\n"
          ],
          "name": "stdout"
        }
      ]
    },
    {
      "cell_type": "code",
      "metadata": {
        "colab": {
          "base_uri": "https://localhost:8080/"
        },
        "id": "UIuT_VLL6HUD",
        "outputId": "ab9cc835-1eb3-496b-9434-023be978e3a5"
      },
      "source": [
        "# Quiz 28\r\n",
        "\r\n",
        "txt = input() # Python     6글자\r\n",
        "\r\n",
        "for i in range(len(txt)-1): # 6   0,1,2,3,4,5\r\n",
        "  print(txt[i],txt[i+1],sep='')\r\n"
      ],
      "execution_count": 26,
      "outputs": [
        {
          "output_type": "stream",
          "text": [
            "python\n",
            "py\n",
            "yt\n",
            "th\n",
            "ho\n",
            "on\n"
          ],
          "name": "stdout"
        }
      ]
    },
    {
      "cell_type": "code",
      "metadata": {
        "colab": {
          "base_uri": "https://localhost:8080/"
        },
        "id": "85i5vr5--w3K",
        "outputId": "485abc5f-96f8-448e-ffad-5a8eda2eaae9"
      },
      "source": [
        "# Quiz 29\r\n",
        "txt = input()\r\n",
        "if txt.isupper() == True:\r\n",
        "  print('YES')\r\n",
        "else:\r\n",
        "  print('NO')"
      ],
      "execution_count": 40,
      "outputs": [
        {
          "output_type": "stream",
          "text": [
            "A\n",
            "YES\n"
          ],
          "name": "stdout"
        }
      ]
    },
    {
      "cell_type": "code",
      "metadata": {
        "colab": {
          "base_uri": "https://localhost:8080/"
        },
        "id": "hhD7Chu8Crei",
        "outputId": "256c1fb9-c9b1-4275-ef91-d13f6d09ea5e"
      },
      "source": [
        "txt = input()\r\n",
        "\r\n",
        "if ord(txt) >=65 and ord(txt) <= 90:\r\n",
        "  print('YES')\r\n",
        "else:\r\n",
        "  print('NO')"
      ],
      "execution_count": 38,
      "outputs": [
        {
          "output_type": "stream",
          "text": [
            "n\n",
            "NO\n"
          ],
          "name": "stdout"
        }
      ]
    },
    {
      "cell_type": "code",
      "metadata": {
        "colab": {
          "base_uri": "https://localhost:8080/"
        },
        "id": "sf5Me0XlFEHF",
        "outputId": "02fff46f-320d-4044-aeb6-07e34d1472e8"
      },
      "source": [
        "txt = input()\r\n",
        "\r\n",
        "if txt >= chr(65) and txt <= chr(90):\r\n",
        "  print('YES')\r\n",
        "else:\r\n",
        "  print('NO')"
      ],
      "execution_count": 42,
      "outputs": [
        {
          "output_type": "stream",
          "text": [
            "A\n",
            "YES\n"
          ],
          "name": "stdout"
        }
      ]
    },
    {
      "cell_type": "code",
      "metadata": {
        "colab": {
          "base_uri": "https://localhost:8080/"
        },
        "id": "IDEM8DmVG0fs",
        "outputId": "759e1670-d053-47be-820e-0402d41813de"
      },
      "source": [
        "# Quiz 30\r\n",
        "txt = input()\r\n",
        "find = txt.find(input())\r\n",
        "print(find)"
      ],
      "execution_count": 47,
      "outputs": [
        {
          "output_type": "stream",
          "text": [
            "pineapple is yummy\n",
            "apple\n",
            "4\n"
          ],
          "name": "stdout"
        }
      ]
    },
    {
      "cell_type": "code",
      "metadata": {
        "id": "jfrMmXTEV7qK"
      },
      "source": [
        ""
      ],
      "execution_count": null,
      "outputs": []
    },
    {
      "cell_type": "code",
      "metadata": {
        "colab": {
          "base_uri": "https://localhost:8080/"
        },
        "id": "VyzDUPiPM1gf",
        "outputId": "f8f73bb2-eb2b-40ed-8464-f24ae805f096"
      },
      "source": [
        "# Quiz 32\r\n",
        "txt = input().split()\r\n",
        "print(len(txt))"
      ],
      "execution_count": 52,
      "outputs": [
        {
          "output_type": "stream",
          "text": [
            "우리\n",
            "1\n"
          ],
          "name": "stdout"
        }
      ]
    },
    {
      "cell_type": "code",
      "metadata": {
        "colab": {
          "base_uri": "https://localhost:8080/"
        },
        "id": "Lw3_YNrtQd-V",
        "outputId": "325c1c73-9936-48eb-a3b6-c741af87e2a7"
      },
      "source": [
        "txt = input()\r\n",
        "a = list(txt.split())\r\n",
        "print(len(a))"
      ],
      "execution_count": 53,
      "outputs": [
        {
          "output_type": "stream",
          "text": [
            "우리는 하나\n",
            "2\n"
          ],
          "name": "stdout"
        }
      ]
    },
    {
      "cell_type": "code",
      "metadata": {
        "colab": {
          "base_uri": "https://localhost:8080/"
        },
        "id": "6nuisV5aTYx1",
        "outputId": "3c9e0e4b-22e0-49cf-d24f-bef5bf3f07bd"
      },
      "source": [
        "txt = ' 빅데이터 '\r\n",
        "print(txt.strip())"
      ],
      "execution_count": 55,
      "outputs": [
        {
          "output_type": "stream",
          "text": [
            "빅데이터\n"
          ],
          "name": "stdout"
        }
      ]
    },
    {
      "cell_type": "code",
      "metadata": {
        "colab": {
          "base_uri": "https://localhost:8080/"
        },
        "id": "OddCqcBPTlMp",
        "outputId": "06c652d7-76e7-4971-f760-1e2d0134e521"
      },
      "source": [
        "#Quiz 33\r\n",
        "num = input()\r\n",
        "print(num[::-1])"
      ],
      "execution_count": 66,
      "outputs": [
        {
          "output_type": "stream",
          "text": [
            "1 2 3 4 5\n",
            "5 4 3 2 1\n"
          ],
          "name": "stdout"
        }
      ]
    },
    {
      "cell_type": "code",
      "metadata": {
        "colab": {
          "base_uri": "https://localhost:8080/"
        },
        "id": "u8KbLSRCUenN",
        "outputId": "c64ff600-b1e5-436f-d6a4-2cc6322ed1c9"
      },
      "source": [
        "for i in range(10):\r\n",
        "  print(i)"
      ],
      "execution_count": 69,
      "outputs": [
        {
          "output_type": "stream",
          "text": [
            "0\n",
            "1\n",
            "2\n",
            "3\n",
            "4\n",
            "5\n",
            "6\n",
            "7\n",
            "8\n",
            "9\n"
          ],
          "name": "stdout"
        }
      ]
    },
    {
      "cell_type": "code",
      "metadata": {
        "colab": {
          "base_uri": "https://localhost:8080/"
        },
        "id": "2XTg4_WqZMEJ",
        "outputId": "057a71c7-17c1-4fe3-9f73-7359c01181d2"
      },
      "source": [
        "for i in range(0,10):\r\n",
        "  print(i)"
      ],
      "execution_count": 71,
      "outputs": [
        {
          "output_type": "stream",
          "text": [
            "0\n",
            "1\n",
            "2\n",
            "3\n",
            "4\n",
            "5\n",
            "6\n",
            "7\n",
            "8\n",
            "9\n"
          ],
          "name": "stdout"
        }
      ]
    },
    {
      "cell_type": "code",
      "metadata": {
        "id": "GIJp6wLpZdcx"
      },
      "source": [
        "for i in range(0,10,-1):\r\n",
        "  print(i)"
      ],
      "execution_count": 73,
      "outputs": []
    },
    {
      "cell_type": "code",
      "metadata": {
        "colab": {
          "base_uri": "https://localhost:8080/"
        },
        "id": "kvJfPE9lZjBK",
        "outputId": "ca508db2-a216-487b-e4c2-fe83b645b212"
      },
      "source": [
        "# Quiz 33 거꾸로 출력하기\r\n",
        "txt = input()\r\n",
        "txt2 = list(txt.split())\r\n",
        "txt3 = [int(i) for i in txt2]\r\n",
        "\r\n",
        "for i in range(len(txt3)-1,-1,-1):\r\n",
        "  print(txt3[i], end=' ')"
      ],
      "execution_count": 78,
      "outputs": [
        {
          "output_type": "stream",
          "text": [
            "1 2 3 4 5\n",
            "5 4 3 2 1 "
          ],
          "name": "stdout"
        }
      ]
    },
    {
      "cell_type": "code",
      "metadata": {
        "colab": {
          "base_uri": "https://localhost:8080/"
        },
        "id": "QHsHB198aURi",
        "outputId": "37e8f748-f8b4-4f59-b0d6-719f580fed33"
      },
      "source": [
        "num = input()\r\n",
        "nums = list(num.split())\r\n",
        "if nums == sorted(nums) :\r\n",
        "  print('YES')\r\n",
        "else:\r\n",
        "  print('NO')"
      ],
      "execution_count": 92,
      "outputs": [
        {
          "output_type": "stream",
          "text": [
            "1 2 3 4 5\n",
            "YES\n"
          ],
          "name": "stdout"
        }
      ]
    },
    {
      "cell_type": "code",
      "metadata": {
        "id": "4sO3lmsPdM5R"
      },
      "source": [
        "#sort() 를 사용하면 원본 리시트 자체의 순서를 변화시킨다.\r\n",
        "#sorted(<list>)를 사용하면 정렬된 새로운 리스트를 반환받는다.\r\n",
        "#<list>.sort()는 새로운 복사본을 만들지 않기때문에\r\n",
        "#sorted(<list>)보다 빠르다."
      ],
      "execution_count": 87,
      "outputs": []
    },
    {
      "cell_type": "code",
      "metadata": {
        "colab": {
          "base_uri": "https://localhost:8080/"
        },
        "id": "rjkI2GHXfozr",
        "outputId": "bc0c30b8-4ba9-4c02-a84d-daaf27778e7a"
      },
      "source": [
        "# Quiz 34\r\n",
        "num1 = input()\r\n",
        "num2 = num1.strip().split()\r\n",
        "num3 = [int(i) for i in num2]\r\n",
        "\r\n",
        "if num3 != sorted(num3):\r\n",
        "  print('NO')\r\n",
        "else:\r\n",
        "  print('YES')"
      ],
      "execution_count": 91,
      "outputs": [
        {
          "output_type": "stream",
          "text": [
            "1 2 3 4 5\n",
            "YES\n"
          ],
          "name": "stdout"
        }
      ]
    },
    {
      "cell_type": "code",
      "metadata": {
        "colab": {
          "base_uri": "https://localhost:8080/"
        },
        "id": "kTd90d0dgrpR",
        "outputId": "dad397ca-f8f7-4a47-bce4-dabca36b2ce0"
      },
      "source": [
        "# Quiz 36\r\n",
        "n = int(input('원하는 단의 숫자를 입력하세요.(1~9): '))\r\n",
        "for i in range(1,10):\r\n",
        "  print(n, \"*\", i, '=', n*i)"
      ],
      "execution_count": 93,
      "outputs": [
        {
          "output_type": "stream",
          "text": [
            "원하는 단의 숫자를 입력하세요.(1~9): 2\n",
            "2 * 1 = 2\n",
            "2 * 2 = 4\n",
            "2 * 3 = 6\n",
            "2 * 4 = 8\n",
            "2 * 5 = 10\n",
            "2 * 6 = 12\n",
            "2 * 7 = 14\n",
            "2 * 8 = 16\n",
            "2 * 9 = 18\n"
          ],
          "name": "stdout"
        }
      ]
    },
    {
      "cell_type": "code",
      "metadata": {
        "colab": {
          "base_uri": "https://localhost:8080/"
        },
        "id": "lWIoqEpn2p8l",
        "outputId": "1db0e5a3-590c-4168-f57a-56fb1db83359"
      },
      "source": [
        "# count 함수\r\n",
        "# 기본문법 : 변수.count(찾는값)\r\n",
        "\r\n",
        "#a = 'ooyyy'\r\n",
        "#a.count('y')\r\n",
        "\r\n",
        "#b = 'ox o x oxoxoxo'\r\n",
        "#b.count('ox')\r\n",
        "\r\n",
        "#a = [1,1,1,2,3]\r\n",
        "#a.count(1)\r\n"
      ],
      "execution_count": 99,
      "outputs": [
        {
          "output_type": "execute_result",
          "data": {
            "text/plain": [
              "3"
            ]
          },
          "metadata": {
            "tags": []
          },
          "execution_count": 99
        }
      ]
    },
    {
      "cell_type": "code",
      "metadata": {
        "colab": {
          "base_uri": "https://localhost:8080/"
        },
        "id": "-zjfLl7AjVXE",
        "outputId": "0e8d8e15-b111-4475-dae8-55ee2efee5c4"
      },
      "source": [
        "# Quiz 37\r\n",
        "a = input().split() # 입력값 단어단위로 받기.\r\n",
        "b = list(set(a)) # 중복 제거를 위한 세트화, 리스트로 받기\r\n",
        "max = 0 # 임시변수 초기화\r\n",
        "\r\n",
        "for i in range(len(b)): # 0,1,2(세명의 이름 중복 제거된 갯수)\r\n",
        "  if a.count(b[i]) > a.count(b[max]): # 위의 0,1,2(세명의 이름)가 순차적으로 비교되어짐\r\n",
        "    max = i      #최대값 유지\r\n",
        "                  #채연의 갯수 2 > 채연의 갯수 2\r\n",
        "                  #은비의 갯수 4 > 채연의 갯수 2  max = 1\r\n",
        "                  #원영의 갯수 2 > 은비의 갯수 4  max = 1\r\n",
        "\r\n",
        "print(\"%s(이)가 총 %d표로 반장이 되었습니다.\" % (b[max], a.count(b[max])))\r\n",
        "\r\n",
        "\r\n",
        "#원영 원영 은비 은비 은비 은비 채연 채연"
      ],
      "execution_count": 107,
      "outputs": [
        {
          "output_type": "stream",
          "text": [
            "원영 원영 은비 은비 은비 은비 채연 채연\n",
            "은비(이)가 총 4표로 반장이 되었습니다.\n"
          ],
          "name": "stdout"
        }
      ]
    },
    {
      "cell_type": "code",
      "metadata": {
        "colab": {
          "base_uri": "https://localhost:8080/"
        },
        "id": "GbFTKzNA2JEd",
        "outputId": "27815cfb-ce3f-4185-edce-a16772c2470d"
      },
      "source": [
        "# Quiz 39\r\n",
        "txt = input()\r\n",
        "print(txt.replace('q','e'))"
      ],
      "execution_count": 112,
      "outputs": [
        {
          "output_type": "stream",
          "text": [
            "qqqqqq\n",
            "eeeeee\n"
          ],
          "name": "stdout"
        }
      ]
    },
    {
      "cell_type": "code",
      "metadata": {
        "colab": {
          "base_uri": "https://localhost:8080/"
        },
        "id": "RgmUV8S1DozW",
        "outputId": "269773c3-f3c2-4735-e487-ef34fd18d362"
      },
      "source": [
        "# Quiz 41\r\n",
        "def prime_number(number):\r\n",
        "  if number != 1:\r\n",
        "    for i in range(2, number):\r\n",
        "      if number % i == 0:\r\n",
        "        return False\r\n",
        "  else:\r\n",
        "    return False\r\n",
        "\r\n",
        "  return True\r\n",
        "num = int(input('판별하고 싶은 숫자를 입력하세요: '))\r\n",
        "if prime_number(num):\r\n",
        "  print('YES')\r\n",
        "else:\r\n",
        "  print('NO')"
      ],
      "execution_count": 117,
      "outputs": [
        {
          "output_type": "stream",
          "text": [
            "판별하고 싶은 숫자를 입력하세요: 10\n",
            "NO\n"
          ],
          "name": "stdout"
        }
      ]
    },
    {
      "cell_type": "code",
      "metadata": {
        "colab": {
          "base_uri": "https://localhost:8080/"
        },
        "id": "6NOq30FBE1Vb",
        "outputId": "44fa04e6-64b2-4560-899f-b5ba79ad6d68"
      },
      "source": [
        "# Quiz 41 소수판별 ***\r\n",
        "a = int(input()) #숫자를 입력받는다.\r\n",
        "re = 0 # re변수 초기화\r\n",
        "for i in range(1, a+1): # 반복문. 해당숫자까지\r\n",
        "  if a % i == 0: # 조건 입력받은 수를 그 수 앞에 모든 수로 나눈 나머지 값이 0이면\r\n",
        "    re += 1 #re값을 하나씩 증가\r\n",
        "  \r\n",
        "if re == 2: #re 값이 2면\r\n",
        "  print('YES') #소수\r\n",
        "else: #아니면\r\n",
        "  print('NO') # NO 출력"
      ],
      "execution_count": 122,
      "outputs": [
        {
          "output_type": "stream",
          "text": [
            "15\n",
            "NO\n"
          ],
          "name": "stdout"
        }
      ]
    },
    {
      "cell_type": "code",
      "metadata": {
        "colab": {
          "base_uri": "https://localhost:8080/"
        },
        "id": "dgSmn8hqQDFz",
        "outputId": "112bdd93-0caf-4bcc-9ac5-44d3f2dfabfd"
      },
      "source": [
        "# Quiz 44\r\n",
        "print(sum(map(int,input(\"합을 구할 수를 입력하세요: \"))))"
      ],
      "execution_count": 136,
      "outputs": [
        {
          "output_type": "stream",
          "text": [
            "합을 구할 수를 입력하세요: 1234\n",
            "10\n"
          ],
          "name": "stdout"
        }
      ]
    },
    {
      "cell_type": "code",
      "metadata": {
        "colab": {
          "base_uri": "https://localhost:8080/"
        },
        "id": "mpgBiB58J9n8",
        "outputId": "6c7981fc-47e5-4509-fcb6-482ad4402ef1"
      },
      "source": [
        "# Quiz 44 풀이\r\n",
        "n = list(map(int, input())) # 숫자로 입력받기\r\n",
        "sum = 0 # 초기화\r\n",
        "for i in n: #반복문 : 입력받은 숫자를 하나씩\r\n",
        "  sum += i #누적합계 구하기\r\n",
        "print(sum) # 합계출력"
      ],
      "execution_count": 139,
      "outputs": [
        {
          "output_type": "stream",
          "text": [
            "1234\n",
            "10\n"
          ],
          "name": "stdout"
        }
      ]
    },
    {
      "cell_type": "code",
      "metadata": {
        "colab": {
          "base_uri": "https://localhost:8080/"
        },
        "id": "w3_awncMT_Er",
        "outputId": "8b31c796-73ba-4a81-ed7a-4976aed91851"
      },
      "source": [
        "# Quiz 44 풀이 2\r\n",
        "sum = 0\r\n",
        "for i in input():\r\n",
        "  sum += int(i)\r\n",
        "print(sum)"
      ],
      "execution_count": 140,
      "outputs": [
        {
          "output_type": "stream",
          "text": [
            "1234\n",
            "10\n"
          ],
          "name": "stdout"
        }
      ]
    },
    {
      "cell_type": "code",
      "metadata": {
        "colab": {
          "base_uri": "https://localhost:8080/"
        },
        "id": "0Ddch_9yUTpx",
        "outputId": "3042d71e-95e1-48e1-c8e7-e824717a6e56"
      },
      "source": [
        "# Quiz 46 내답안. 틀린답.\r\n",
        "num = ['1','2','3','4','5','6','7','8','9','10',\r\n",
        "       '11','12','13','14','15','16','17','18','19','20']\r\n",
        "\r\n",
        "n = map(int, num)\r\n",
        "for i in n:\r\n",
        "  sum += i\r\n",
        "print(sum)"
      ],
      "execution_count": 154,
      "outputs": [
        {
          "output_type": "stream",
          "text": [
            "2110\n"
          ],
          "name": "stdout"
        }
      ]
    },
    {
      "cell_type": "code",
      "metadata": {
        "colab": {
          "base_uri": "https://localhost:8080/"
        },
        "id": "8_Sjx56yVP8Y",
        "outputId": "b2d57d52-f6b4-4a54-c6e4-eac71785c5b3"
      },
      "source": [
        "# Quiz 46 풀이\r\n",
        "a = list(map(int,input().split()))\r\n",
        "sum = 0\r\n",
        "for i in a:\r\n",
        "  for j in str(i):\r\n",
        "    sum += int(j)\r\n",
        "print(sum)"
      ],
      "execution_count": 169,
      "outputs": [
        {
          "output_type": "stream",
          "text": [
            "10 20 30 40 51 61\n",
            "23\n"
          ],
          "name": "stdout"
        }
      ]
    },
    {
      "cell_type": "code",
      "metadata": {
        "id": "6qR5X23YW1Ty"
      },
      "source": [
        ""
      ],
      "execution_count": null,
      "outputs": []
    }
  ]
}