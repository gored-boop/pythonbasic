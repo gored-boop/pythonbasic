{
 "cells": [
  {
   "cell_type": "code",
   "execution_count": 15,
   "id": "pressing-panel",
   "metadata": {},
   "outputs": [
    {
     "name": "stderr",
     "output_type": "stream",
     "text": [
      "Warning message:\n",
      "\"package 'readxl' was built under R version 3.6.3\"\n",
      "Attaching package: 'dplyr'\n",
      "\n",
      "The following objects are masked from 'package:stats':\n",
      "\n",
      "    filter, lag\n",
      "\n",
      "The following objects are masked from 'package:base':\n",
      "\n",
      "    intersect, setdiff, setequal, union\n",
      "\n"
     ]
    }
   ],
   "source": [
    "library(readxl)\n",
    "library(dplyr)\n",
    "customer_r <- read_excel(\"customer_r.xlsx\")\n",
    "reservation_r <- read_excel(\"reservation_r.xlsx\")\n",
    "order_info_r <- read_excel(\"order_info_r.xlsx\")\n",
    "item_r <- read_excel(\"item_r.xlsx\")\n",
    "colnames(customer_r) <- tolower(colnames(customer_r))\n",
    "colnames(reservation_r) <- tolower(colnames(reservation_r))\n",
    "colnames(order_info_r) <- tolower(colnames(order_info_r))\n",
    "colnames(item_r) <- tolower(colnames(item_r))"
   ]
  },
  {
   "cell_type": "code",
   "execution_count": 16,
   "id": "obvious-watershed",
   "metadata": {},
   "outputs": [
    {
     "data": {
      "text/html": [
       "<table>\n",
       "<thead><tr><th scope=col>customer_id</th><th scope=col>customer_name</th><th scope=col>phone_number</th><th scope=col>email</th><th scope=col>first_reg_date</th><th scope=col>sex_code</th><th scope=col>birth</th><th scope=col>job</th><th scope=col>zip_code</th></tr></thead>\n",
       "<tbody>\n",
       "\t<tr><td>W1346506          </td><td>고객71            </td><td>010-1111-1181     </td><td>scust71@sfnb.co.kr</td><td>19/09/01          </td><td>F                 </td><td>19820922          </td><td>자영업            </td><td>122100            </td></tr>\n",
       "\t<tr><td>W1347648          </td><td>고객72            </td><td>010-1111-1182     </td><td>scust72@sfnb.co.kr</td><td>19/09/04          </td><td>M                 </td><td>19940812          </td><td>학생              </td><td>140100            </td></tr>\n",
       "\t<tr><td>W1347756          </td><td>고객73            </td><td>010-1111-1183     </td><td>scust73@sfnb.co.kr</td><td>19/09/05          </td><td>M                 </td><td>19931217          </td><td>NA                </td><td>152100            </td></tr>\n",
       "\t<tr><td>W1347984          </td><td>고객74            </td><td>010-1111-1184     </td><td>scust74@sfnb.co.kr</td><td>19/09/06          </td><td>M                 </td><td>19810822          </td><td>자영업            </td><td>130100            </td></tr>\n",
       "\t<tr><td>W1348303          </td><td>고객75            </td><td>010-1111-1185     </td><td>scust75@sfnb.co.kr</td><td>19/09/07          </td><td>M                 </td><td>19900611          </td><td>NA                </td><td>121100            </td></tr>\n",
       "\t<tr><td>W1348424          </td><td>고객76            </td><td>010-1111-1186     </td><td>scust76@sfnb.co.kr</td><td>19/09/08          </td><td>M                 </td><td>19730422          </td><td>NA                </td><td>139100            </td></tr>\n",
       "</tbody>\n",
       "</table>\n"
      ],
      "text/latex": [
       "\\begin{tabular}{r|lllllllll}\n",
       " customer\\_id & customer\\_name & phone\\_number & email & first\\_reg\\_date & sex\\_code & birth & job & zip\\_code\\\\\n",
       "\\hline\n",
       "\t W1346506           & 고객71             & 010-1111-1181      & scust71@sfnb.co.kr & 19/09/01           & F                  & 19820922           & 자영업             & 122100            \\\\\n",
       "\t W1347648           & 고객72             & 010-1111-1182      & scust72@sfnb.co.kr & 19/09/04           & M                  & 19940812           & 학생               & 140100            \\\\\n",
       "\t W1347756           & 고객73             & 010-1111-1183      & scust73@sfnb.co.kr & 19/09/05           & M                  & 19931217           & NA                 & 152100            \\\\\n",
       "\t W1347984           & 고객74             & 010-1111-1184      & scust74@sfnb.co.kr & 19/09/06           & M                  & 19810822           & 자영업             & 130100            \\\\\n",
       "\t W1348303           & 고객75             & 010-1111-1185      & scust75@sfnb.co.kr & 19/09/07           & M                  & 19900611           & NA                 & 121100            \\\\\n",
       "\t W1348424           & 고객76             & 010-1111-1186      & scust76@sfnb.co.kr & 19/09/08           & M                  & 19730422           & NA                 & 139100            \\\\\n",
       "\\end{tabular}\n"
      ],
      "text/markdown": [
       "\n",
       "| customer_id | customer_name | phone_number | email | first_reg_date | sex_code | birth | job | zip_code |\n",
       "|---|---|---|---|---|---|---|---|---|\n",
       "| W1346506           | 고객71             | 010-1111-1181      | scust71@sfnb.co.kr | 19/09/01           | F                  | 19820922           | 자영업             | 122100             |\n",
       "| W1347648           | 고객72             | 010-1111-1182      | scust72@sfnb.co.kr | 19/09/04           | M                  | 19940812           | 학생               | 140100             |\n",
       "| W1347756           | 고객73             | 010-1111-1183      | scust73@sfnb.co.kr | 19/09/05           | M                  | 19931217           | NA                 | 152100             |\n",
       "| W1347984           | 고객74             | 010-1111-1184      | scust74@sfnb.co.kr | 19/09/06           | M                  | 19810822           | 자영업             | 130100             |\n",
       "| W1348303           | 고객75             | 010-1111-1185      | scust75@sfnb.co.kr | 19/09/07           | M                  | 19900611           | NA                 | 121100             |\n",
       "| W1348424           | 고객76             | 010-1111-1186      | scust76@sfnb.co.kr | 19/09/08           | M                  | 19730422           | NA                 | 139100             |\n",
       "\n"
      ],
      "text/plain": [
       "  customer_id customer_name phone_number  email              first_reg_date\n",
       "1 W1346506    고객71        010-1111-1181 scust71@sfnb.co.kr 19/09/01      \n",
       "2 W1347648    고객72        010-1111-1182 scust72@sfnb.co.kr 19/09/04      \n",
       "3 W1347756    고객73        010-1111-1183 scust73@sfnb.co.kr 19/09/05      \n",
       "4 W1347984    고객74        010-1111-1184 scust74@sfnb.co.kr 19/09/06      \n",
       "5 W1348303    고객75        010-1111-1185 scust75@sfnb.co.kr 19/09/07      \n",
       "6 W1348424    고객76        010-1111-1186 scust76@sfnb.co.kr 19/09/08      \n",
       "  sex_code birth    job    zip_code\n",
       "1 F        19820922 자영업 122100  \n",
       "2 M        19940812 학생   140100  \n",
       "3 M        19931217 NA     152100  \n",
       "4 M        19810822 자영업 130100  \n",
       "5 M        19900611 NA     121100  \n",
       "6 M        19730422 NA     139100  "
      ]
     },
     "metadata": {},
     "output_type": "display_data"
    }
   ],
   "source": [
    "head(customer_r)"
   ]
  },
  {
   "cell_type": "code",
   "execution_count": 17,
   "id": "diagnostic-greensboro",
   "metadata": {},
   "outputs": [
    {
     "name": "stdout",
     "output_type": "stream",
     "text": [
      "package 'ggplot2' successfully unpacked and MD5 sums checked\n",
      "\n",
      "The downloaded binary packages are in\n",
      "\tC:\\Users\\WAN\\AppData\\Local\\Temp\\RtmpiKrgyN\\downloaded_packages\n"
     ]
    }
   ],
   "source": [
    "install.packages('ggplot2')"
   ]
  },
  {
   "cell_type": "code",
   "execution_count": 18,
   "id": "dependent-mumbai",
   "metadata": {},
   "outputs": [
    {
     "name": "stderr",
     "output_type": "stream",
     "text": [
      "Warning message:\n",
      "\"package 'ggplot2' was built under R version 3.6.3\""
     ]
    }
   ],
   "source": [
    "library(ggplot2)"
   ]
  },
  {
   "cell_type": "code",
   "execution_count": 19,
   "id": "relative-thing",
   "metadata": {},
   "outputs": [],
   "source": [
    "library(dplyr)"
   ]
  },
  {
   "cell_type": "code",
   "execution_count": 20,
   "id": "dedicated-pipeline",
   "metadata": {},
   "outputs": [
    {
     "data": {
      "image/png": "[encoded data removed]",
      "text/plain": [
       "plot without title"
      ]
     },
     "metadata": {},
     "output_type": "display_data"
    }
   ],
   "source": [
    "ggplot(data = pressure, aes(x = temperature, y = pressure)) + geom_col()"
   ]
  },
  {
   "cell_type": "code",
   "execution_count": 21,
   "id": "beautiful-tuning",
   "metadata": {},
   "outputs": [],
   "source": [
    "df_cfm_order <- inner_join(reservation_r, order_info_r, by = \"reserv_no\") %>%\n",
    "    select(customer_id, reserv_no, visitor_cnt, cancel, order_no, item_id, sales) %>%\n",
    "arrange(customer_id, reserv_no, item_id)"
   ]
  },
  {
   "cell_type": "code",
   "execution_count": 22,
   "id": "prime-orlando",
   "metadata": {},
   "outputs": [
    {
     "data": {
      "text/html": [
       "<table>\n",
       "<thead><tr><th scope=col>customer_id</th><th scope=col>reserv_no</th><th scope=col>visitor_cnt</th><th scope=col>cancel</th><th scope=col>order_no</th><th scope=col>item_id</th><th scope=col>sales</th></tr></thead>\n",
       "<tbody>\n",
       "\t<tr><td>W1327595          </td><td>2019061801        </td><td>2                 </td><td>N                 </td><td>190618107186310010</td><td>M0001             </td><td> 48000            </td></tr>\n",
       "\t<tr><td>W1327595          </td><td>2019071801        </td><td>4                 </td><td>N                 </td><td>190718107186310010</td><td>M0005             </td><td>140000            </td></tr>\n",
       "\t<tr><td>W1327803          </td><td>2019060301        </td><td>4                 </td><td>N                 </td><td>190603578341100100</td><td>M0005             </td><td>140000            </td></tr>\n",
       "\t<tr><td>W1327803          </td><td>2019091506        </td><td>2                 </td><td>N                 </td><td>190915137187310010</td><td>M0005             </td><td> 70000            </td></tr>\n",
       "\t<tr><td>W1328432          </td><td>2019060601        </td><td>4                 </td><td>N                 </td><td>190606607189610010</td><td>M0005             </td><td>140000            </td></tr>\n",
       "\t<tr><td>W1328432          </td><td>2019060601        </td><td>4                 </td><td>N                 </td><td>190606607189610010</td><td>M0010             </td><td> 12000            </td></tr>\n",
       "</tbody>\n",
       "</table>\n"
      ],
      "text/latex": [
       "\\begin{tabular}{r|lllllll}\n",
       " customer\\_id & reserv\\_no & visitor\\_cnt & cancel & order\\_no & item\\_id & sales\\\\\n",
       "\\hline\n",
       "\t W1327595           & 2019061801         & 2                  & N                  & 190618107186310010 & M0001              &  48000            \\\\\n",
       "\t W1327595           & 2019071801         & 4                  & N                  & 190718107186310010 & M0005              & 140000            \\\\\n",
       "\t W1327803           & 2019060301         & 4                  & N                  & 190603578341100100 & M0005              & 140000            \\\\\n",
       "\t W1327803           & 2019091506         & 2                  & N                  & 190915137187310010 & M0005              &  70000            \\\\\n",
       "\t W1328432           & 2019060601         & 4                  & N                  & 190606607189610010 & M0005              & 140000            \\\\\n",
       "\t W1328432           & 2019060601         & 4                  & N                  & 190606607189610010 & M0010              &  12000            \\\\\n",
       "\\end{tabular}\n"
      ],
      "text/markdown": [
       "\n",
       "| customer_id | reserv_no | visitor_cnt | cancel | order_no | item_id | sales |\n",
       "|---|---|---|---|---|---|---|\n",
       "| W1327595           | 2019061801         | 2                  | N                  | 190618107186310010 | M0001              |  48000             |\n",
       "| W1327595           | 2019071801         | 4                  | N                  | 190718107186310010 | M0005              | 140000             |\n",
       "| W1327803           | 2019060301         | 4                  | N                  | 190603578341100100 | M0005              | 140000             |\n",
       "| W1327803           | 2019091506         | 2                  | N                  | 190915137187310010 | M0005              |  70000             |\n",
       "| W1328432           | 2019060601         | 4                  | N                  | 190606607189610010 | M0005              | 140000             |\n",
       "| W1328432           | 2019060601         | 4                  | N                  | 190606607189610010 | M0010              |  12000             |\n",
       "\n"
      ],
      "text/plain": [
       "  customer_id reserv_no  visitor_cnt cancel order_no           item_id sales \n",
       "1 W1327595    2019061801 2           N      190618107186310010 M0001    48000\n",
       "2 W1327595    2019071801 4           N      190718107186310010 M0005   140000\n",
       "3 W1327803    2019060301 4           N      190603578341100100 M0005   140000\n",
       "4 W1327803    2019091506 2           N      190915137187310010 M0005    70000\n",
       "5 W1328432    2019060601 4           N      190606607189610010 M0005   140000\n",
       "6 W1328432    2019060601 4           N      190606607189610010 M0010    12000"
      ]
     },
     "metadata": {},
     "output_type": "display_data"
    }
   ],
   "source": [
    "head(df_cfm_order)"
   ]
  },
  {
   "cell_type": "code",
   "execution_count": 23,
   "id": "agricultural-longer",
   "metadata": {},
   "outputs": [],
   "source": [
    "df_sct_graph <- df_cfm_order %>% \n",
    "    group_by(customer_id) %>% \n",
    "    summarise(vst_cnt = sum(visitor_cnt), cust_amt = sum(sales/1000))"
   ]
  },
  {
   "cell_type": "code",
   "execution_count": 24,
   "id": "hundred-leader",
   "metadata": {},
   "outputs": [
    {
     "data": {
      "text/html": [
       "<table>\n",
       "<thead><tr><th scope=col>customer_id</th><th scope=col>vst_cnt</th><th scope=col>cust_amt</th></tr></thead>\n",
       "<tbody>\n",
       "\t<tr><td>W1327595</td><td> 6      </td><td>188     </td></tr>\n",
       "\t<tr><td>W1327803</td><td> 6      </td><td>210     </td></tr>\n",
       "\t<tr><td>W1328432</td><td>20      </td><td>246     </td></tr>\n",
       "\t<tr><td>W1328505</td><td>20      </td><td>287     </td></tr>\n",
       "\t<tr><td>W1328786</td><td> 1      </td><td> 10     </td></tr>\n",
       "\t<tr><td>W1328985</td><td> 8      </td><td>178     </td></tr>\n",
       "</tbody>\n",
       "</table>\n"
      ],
      "text/latex": [
       "\\begin{tabular}{r|lll}\n",
       " customer\\_id & vst\\_cnt & cust\\_amt\\\\\n",
       "\\hline\n",
       "\t W1327595 &  6       & 188     \\\\\n",
       "\t W1327803 &  6       & 210     \\\\\n",
       "\t W1328432 & 20       & 246     \\\\\n",
       "\t W1328505 & 20       & 287     \\\\\n",
       "\t W1328786 &  1       &  10     \\\\\n",
       "\t W1328985 &  8       & 178     \\\\\n",
       "\\end{tabular}\n"
      ],
      "text/markdown": [
       "\n",
       "| customer_id | vst_cnt | cust_amt |\n",
       "|---|---|---|\n",
       "| W1327595 |  6       | 188      |\n",
       "| W1327803 |  6       | 210      |\n",
       "| W1328432 | 20       | 246      |\n",
       "| W1328505 | 20       | 287      |\n",
       "| W1328786 |  1       |  10      |\n",
       "| W1328985 |  8       | 178      |\n",
       "\n"
      ],
      "text/plain": [
       "  customer_id vst_cnt cust_amt\n",
       "1 W1327595     6      188     \n",
       "2 W1327803     6      210     \n",
       "3 W1328432    20      246     \n",
       "4 W1328505    20      287     \n",
       "5 W1328786     1       10     \n",
       "6 W1328985     8      178     "
      ]
     },
     "metadata": {},
     "output_type": "display_data"
    }
   ],
   "source": [
    "head(df_sct_graph)"
   ]
  },
  {
   "cell_type": "code",
   "execution_count": 25,
   "id": "bulgarian-cursor",
   "metadata": {},
   "outputs": [
    {
     "name": "stderr",
     "output_type": "stream",
     "text": [
      "Warning message:\n",
      "\"Removed 5 rows containing missing values (geom_point).\""
     ]
    },
    {
     "data": {
      "image/png": "[encoded data removed]",
      "text/plain": [
       "plot without title"
      ]
     },
     "metadata": {},
     "output_type": "display_data"
    }
   ],
   "source": [
    "ggplot(data = df_sct_graph, aes(x = vst_cnt, y = cust_amt))+\n",
    "    geom_point()+\n",
    "    xlim(0, 50) + ylim(0, 500)"
   ]
  },
  {
   "cell_type": "code",
   "execution_count": 26,
   "id": "crazy-suspect",
   "metadata": {},
   "outputs": [
    {
     "data": {
      "text/html": [
       "<table>\n",
       "<thead><tr><th scope=col>customer_id</th><th scope=col>customer_name</th><th scope=col>phone_number</th><th scope=col>email</th><th scope=col>first_reg_date</th><th scope=col>sex_code</th><th scope=col>birth</th><th scope=col>job</th><th scope=col>zip_code</th></tr></thead>\n",
       "<tbody>\n",
       "\t<tr><td>W1346506          </td><td>고객71            </td><td>010-1111-1181     </td><td>scust71@sfnb.co.kr</td><td>19/09/01          </td><td>F                 </td><td>19820922          </td><td>자영업            </td><td>122100            </td></tr>\n",
       "\t<tr><td>W1347648          </td><td>고객72            </td><td>010-1111-1182     </td><td>scust72@sfnb.co.kr</td><td>19/09/04          </td><td>M                 </td><td>19940812          </td><td>학생              </td><td>140100            </td></tr>\n",
       "\t<tr><td>W1347756          </td><td>고객73            </td><td>010-1111-1183     </td><td>scust73@sfnb.co.kr</td><td>19/09/05          </td><td>M                 </td><td>19931217          </td><td>NA                </td><td>152100            </td></tr>\n",
       "\t<tr><td>W1347984          </td><td>고객74            </td><td>010-1111-1184     </td><td>scust74@sfnb.co.kr</td><td>19/09/06          </td><td>M                 </td><td>19810822          </td><td>자영업            </td><td>130100            </td></tr>\n",
       "\t<tr><td>W1348303          </td><td>고객75            </td><td>010-1111-1185     </td><td>scust75@sfnb.co.kr</td><td>19/09/07          </td><td>M                 </td><td>19900611          </td><td>NA                </td><td>121100            </td></tr>\n",
       "\t<tr><td>W1348424          </td><td>고객76            </td><td>010-1111-1186     </td><td>scust76@sfnb.co.kr</td><td>19/09/08          </td><td>M                 </td><td>19730422          </td><td>NA                </td><td>139100            </td></tr>\n",
       "</tbody>\n",
       "</table>\n"
      ],
      "text/latex": [
       "\\begin{tabular}{r|lllllllll}\n",
       " customer\\_id & customer\\_name & phone\\_number & email & first\\_reg\\_date & sex\\_code & birth & job & zip\\_code\\\\\n",
       "\\hline\n",
       "\t W1346506           & 고객71             & 010-1111-1181      & scust71@sfnb.co.kr & 19/09/01           & F                  & 19820922           & 자영업             & 122100            \\\\\n",
       "\t W1347648           & 고객72             & 010-1111-1182      & scust72@sfnb.co.kr & 19/09/04           & M                  & 19940812           & 학생               & 140100            \\\\\n",
       "\t W1347756           & 고객73             & 010-1111-1183      & scust73@sfnb.co.kr & 19/09/05           & M                  & 19931217           & NA                 & 152100            \\\\\n",
       "\t W1347984           & 고객74             & 010-1111-1184      & scust74@sfnb.co.kr & 19/09/06           & M                  & 19810822           & 자영업             & 130100            \\\\\n",
       "\t W1348303           & 고객75             & 010-1111-1185      & scust75@sfnb.co.kr & 19/09/07           & M                  & 19900611           & NA                 & 121100            \\\\\n",
       "\t W1348424           & 고객76             & 010-1111-1186      & scust76@sfnb.co.kr & 19/09/08           & M                  & 19730422           & NA                 & 139100            \\\\\n",
       "\\end{tabular}\n"
      ],
      "text/markdown": [
       "\n",
       "| customer_id | customer_name | phone_number | email | first_reg_date | sex_code | birth | job | zip_code |\n",
       "|---|---|---|---|---|---|---|---|---|\n",
       "| W1346506           | 고객71             | 010-1111-1181      | scust71@sfnb.co.kr | 19/09/01           | F                  | 19820922           | 자영업             | 122100             |\n",
       "| W1347648           | 고객72             | 010-1111-1182      | scust72@sfnb.co.kr | 19/09/04           | M                  | 19940812           | 학생               | 140100             |\n",
       "| W1347756           | 고객73             | 010-1111-1183      | scust73@sfnb.co.kr | 19/09/05           | M                  | 19931217           | NA                 | 152100             |\n",
       "| W1347984           | 고객74             | 010-1111-1184      | scust74@sfnb.co.kr | 19/09/06           | M                  | 19810822           | 자영업             | 130100             |\n",
       "| W1348303           | 고객75             | 010-1111-1185      | scust75@sfnb.co.kr | 19/09/07           | M                  | 19900611           | NA                 | 121100             |\n",
       "| W1348424           | 고객76             | 010-1111-1186      | scust76@sfnb.co.kr | 19/09/08           | M                  | 19730422           | NA                 | 139100             |\n",
       "\n"
      ],
      "text/plain": [
       "  customer_id customer_name phone_number  email              first_reg_date\n",
       "1 W1346506    고객71        010-1111-1181 scust71@sfnb.co.kr 19/09/01      \n",
       "2 W1347648    고객72        010-1111-1182 scust72@sfnb.co.kr 19/09/04      \n",
       "3 W1347756    고객73        010-1111-1183 scust73@sfnb.co.kr 19/09/05      \n",
       "4 W1347984    고객74        010-1111-1184 scust74@sfnb.co.kr 19/09/06      \n",
       "5 W1348303    고객75        010-1111-1185 scust75@sfnb.co.kr 19/09/07      \n",
       "6 W1348424    고객76        010-1111-1186 scust76@sfnb.co.kr 19/09/08      \n",
       "  sex_code birth    job    zip_code\n",
       "1 F        19820922 자영업 122100  \n",
       "2 M        19940812 학생   140100  \n",
       "3 M        19931217 NA     152100  \n",
       "4 M        19810822 자영업 130100  \n",
       "5 M        19900611 NA     121100  \n",
       "6 M        19730422 NA     139100  "
      ]
     },
     "metadata": {},
     "output_type": "display_data"
    }
   ],
   "source": [
    "head(customer_r)"
   ]
  },
  {
   "cell_type": "code",
   "execution_count": 27,
   "id": "respected-verse",
   "metadata": {},
   "outputs": [],
   "source": [
    "df_sct_graph2 <- inner_join(df_sct_graph, customer_r, by = 'customer_id') %>% \n",
    "    select(vst_cnt, cust_amt, sex_code)"
   ]
  },
  {
   "cell_type": "code",
   "execution_count": 28,
   "id": "refined-proportion",
   "metadata": {},
   "outputs": [
    {
     "data": {
      "text/html": [
       "<table>\n",
       "<thead><tr><th scope=col>vst_cnt</th><th scope=col>cust_amt</th><th scope=col>sex_code</th></tr></thead>\n",
       "<tbody>\n",
       "\t<tr><td> 6 </td><td>188</td><td>M  </td></tr>\n",
       "\t<tr><td> 6 </td><td>210</td><td>M  </td></tr>\n",
       "\t<tr><td>20 </td><td>246</td><td>M  </td></tr>\n",
       "\t<tr><td>20 </td><td>287</td><td>F  </td></tr>\n",
       "\t<tr><td> 1 </td><td> 10</td><td>M  </td></tr>\n",
       "\t<tr><td> 8 </td><td>178</td><td>M  </td></tr>\n",
       "</tbody>\n",
       "</table>\n"
      ],
      "text/latex": [
       "\\begin{tabular}{r|lll}\n",
       " vst\\_cnt & cust\\_amt & sex\\_code\\\\\n",
       "\\hline\n",
       "\t  6  & 188 & M  \\\\\n",
       "\t  6  & 210 & M  \\\\\n",
       "\t 20  & 246 & M  \\\\\n",
       "\t 20  & 287 & F  \\\\\n",
       "\t  1  &  10 & M  \\\\\n",
       "\t  8  & 178 & M  \\\\\n",
       "\\end{tabular}\n"
      ],
      "text/markdown": [
       "\n",
       "| vst_cnt | cust_amt | sex_code |\n",
       "|---|---|---|\n",
       "|  6  | 188 | M   |\n",
       "|  6  | 210 | M   |\n",
       "| 20  | 246 | M   |\n",
       "| 20  | 287 | F   |\n",
       "|  1  |  10 | M   |\n",
       "|  8  | 178 | M   |\n",
       "\n"
      ],
      "text/plain": [
       "  vst_cnt cust_amt sex_code\n",
       "1  6      188      M       \n",
       "2  6      210      M       \n",
       "3 20      246      M       \n",
       "4 20      287      F       \n",
       "5  1       10      M       \n",
       "6  8      178      M       "
      ]
     },
     "metadata": {},
     "output_type": "display_data"
    }
   ],
   "source": [
    "head(df_sct_graph2)"
   ]
  },
  {
   "cell_type": "code",
   "execution_count": 29,
   "id": "departmental-culture",
   "metadata": {},
   "outputs": [
    {
     "name": "stderr",
     "output_type": "stream",
     "text": [
      "Warning message:\n",
      "\"Removed 5 rows containing missing values (geom_point).\""
     ]
    },
    {
     "data": {
      "image/png": "[encoded data removed]",
      "text/plain": [
       "plot without title"
      ]
     },
     "metadata": {},
     "output_type": "display_data"
    }
   ],
   "source": [
    "ggplot(data = df_sct_graph2, aes(x = vst_cnt, y = cust_amt, color = sex_code))+\n",
    "    geom_point()+\n",
    "    xlim(0, 50)+\n",
    "    ylim(0, 500)"
   ]
  },
  {
   "cell_type": "code",
   "execution_count": 30,
   "id": "joint-newcastle",
   "metadata": {},
   "outputs": [],
   "source": [
    "df_branch_sales_1 <- inner_join(reservation_r,order_info_r,by = 'reserv_no') %>% \n",
    "    select(branch, sales) %>% \n",
    "    arrange(branch,sales)"
   ]
  },
  {
   "cell_type": "code",
   "execution_count": 31,
   "id": "endangered-professional",
   "metadata": {},
   "outputs": [],
   "source": [
    "df_branch_sales_2 <- df_branch_sales_1  %>% group_by(branch) %>% \n",
    "    summarise(amt = sum(sales)/1000) %>% \n",
    "    arrange(desc(amt))"
   ]
  },
  {
   "cell_type": "code",
   "execution_count": 32,
   "id": "similar-modem",
   "metadata": {},
   "outputs": [
    {
     "data": {
      "text/html": [
       "<table>\n",
       "<thead><tr><th scope=col>branch</th><th scope=col>amt</th></tr></thead>\n",
       "<tbody>\n",
       "\t<tr><td>강남  </td><td>4074  </td></tr>\n",
       "\t<tr><td>영등포</td><td>1516  </td></tr>\n",
       "\t<tr><td>종로  </td><td>1428  </td></tr>\n",
       "\t<tr><td>용산  </td><td>1366  </td></tr>\n",
       "\t<tr><td>서초  </td><td>1295  </td></tr>\n",
       "\t<tr><td>송파  </td><td>1190  </td></tr>\n",
       "\t<tr><td>서대문</td><td>1180  </td></tr>\n",
       "\t<tr><td>동작  </td><td>1149  </td></tr>\n",
       "\t<tr><td>관악  </td><td>1101  </td></tr>\n",
       "\t<tr><td>노원  </td><td>1054  </td></tr>\n",
       "\t<tr><td>강동  </td><td> 990  </td></tr>\n",
       "\t<tr><td>마포  </td><td> 953  </td></tr>\n",
       "\t<tr><td>강서  </td><td> 949  </td></tr>\n",
       "\t<tr><td>중구  </td><td> 825  </td></tr>\n",
       "\t<tr><td>성동  </td><td> 733  </td></tr>\n",
       "\t<tr><td>도봉  </td><td> 698  </td></tr>\n",
       "\t<tr><td>강북  </td><td> 694  </td></tr>\n",
       "\t<tr><td>동대문</td><td> 676  </td></tr>\n",
       "\t<tr><td>구로  </td><td> 670  </td></tr>\n",
       "\t<tr><td>양천  </td><td> 636  </td></tr>\n",
       "\t<tr><td>은평  </td><td> 471  </td></tr>\n",
       "\t<tr><td>중랑  </td><td> 468  </td></tr>\n",
       "\t<tr><td>금천  </td><td> 369  </td></tr>\n",
       "\t<tr><td>광진  </td><td> 320  </td></tr>\n",
       "\t<tr><td>성북  </td><td> 152  </td></tr>\n",
       "</tbody>\n",
       "</table>\n"
      ],
      "text/latex": [
       "\\begin{tabular}{r|ll}\n",
       " branch & amt\\\\\n",
       "\\hline\n",
       "\t 강남   & 4074  \\\\\n",
       "\t 영등포 & 1516  \\\\\n",
       "\t 종로   & 1428  \\\\\n",
       "\t 용산   & 1366  \\\\\n",
       "\t 서초   & 1295  \\\\\n",
       "\t 송파   & 1190  \\\\\n",
       "\t 서대문 & 1180  \\\\\n",
       "\t 동작   & 1149  \\\\\n",
       "\t 관악   & 1101  \\\\\n",
       "\t 노원   & 1054  \\\\\n",
       "\t 강동   &  990  \\\\\n",
       "\t 마포   &  953  \\\\\n",
       "\t 강서   &  949  \\\\\n",
       "\t 중구   &  825  \\\\\n",
       "\t 성동   &  733  \\\\\n",
       "\t 도봉   &  698  \\\\\n",
       "\t 강북   &  694  \\\\\n",
       "\t 동대문 &  676  \\\\\n",
       "\t 구로   &  670  \\\\\n",
       "\t 양천   &  636  \\\\\n",
       "\t 은평   &  471  \\\\\n",
       "\t 중랑   &  468  \\\\\n",
       "\t 금천   &  369  \\\\\n",
       "\t 광진   &  320  \\\\\n",
       "\t 성북   &  152  \\\\\n",
       "\\end{tabular}\n"
      ],
      "text/markdown": [
       "\n",
       "| branch | amt |\n",
       "|---|---|\n",
       "| 강남   | 4074   |\n",
       "| 영등포 | 1516   |\n",
       "| 종로   | 1428   |\n",
       "| 용산   | 1366   |\n",
       "| 서초   | 1295   |\n",
       "| 송파   | 1190   |\n",
       "| 서대문 | 1180   |\n",
       "| 동작   | 1149   |\n",
       "| 관악   | 1101   |\n",
       "| 노원   | 1054   |\n",
       "| 강동   |  990   |\n",
       "| 마포   |  953   |\n",
       "| 강서   |  949   |\n",
       "| 중구   |  825   |\n",
       "| 성동   |  733   |\n",
       "| 도봉   |  698   |\n",
       "| 강북   |  694   |\n",
       "| 동대문 |  676   |\n",
       "| 구로   |  670   |\n",
       "| 양천   |  636   |\n",
       "| 은평   |  471   |\n",
       "| 중랑   |  468   |\n",
       "| 금천   |  369   |\n",
       "| 광진   |  320   |\n",
       "| 성북   |  152   |\n",
       "\n"
      ],
      "text/plain": [
       "   branch amt \n",
       "1  강남   4074\n",
       "2  영등포 1516\n",
       "3  종로   1428\n",
       "4  용산   1366\n",
       "5  서초   1295\n",
       "6  송파   1190\n",
       "7  서대문 1180\n",
       "8  동작   1149\n",
       "9  관악   1101\n",
       "10 노원   1054\n",
       "11 강동    990\n",
       "12 마포    953\n",
       "13 강서    949\n",
       "14 중구    825\n",
       "15 성동    733\n",
       "16 도봉    698\n",
       "17 강북    694\n",
       "18 동대문  676\n",
       "19 구로    670\n",
       "20 양천    636\n",
       "21 은평    471\n",
       "22 중랑    468\n",
       "23 금천    369\n",
       "24 광진    320\n",
       "25 성북    152"
      ]
     },
     "metadata": {},
     "output_type": "display_data"
    }
   ],
   "source": [
    "df_branch_sales_2"
   ]
  },
  {
   "cell_type": "code",
   "execution_count": 33,
   "id": "rental-sculpture",
   "metadata": {},
   "outputs": [
    {
     "data": {
      "image/png": "[encoded data removed]",
      "text/plain": [
       "plot without title"
      ]
     },
     "metadata": {},
     "output_type": "display_data"
    }
   ],
   "source": [
    "ggplot(df_branch_sales_2, aes(x = branch, y = amt))+\n",
    "    geom_bar(stat = 'identity')"
   ]
  },
  {
   "cell_type": "code",
   "execution_count": 34,
   "id": "radio-quest",
   "metadata": {},
   "outputs": [
    {
     "data": {
      "image/png": "[encoded data removed]",
      "text/plain": [
       "plot without title"
      ]
     },
     "metadata": {},
     "output_type": "display_data"
    }
   ],
   "source": [
    "ggplot(df_branch_sales_2, aes(x = reorder(branch, -amt), y = amt, fill = branch))+\n",
    "    geom_bar(stat = 'identity')"
   ]
  },
  {
   "cell_type": "code",
   "execution_count": 35,
   "id": "cross-class",
   "metadata": {},
   "outputs": [],
   "source": [
    "gg <- ggplot(df_branch_sales_2, aes(x = reorder(branch,-amt), y=amt, fill=branch))+\n",
    "    geom_bar(stat = 'identity')+\n",
    "    xlim(c('강남','영등포','종로','용산','서초'))"
   ]
  },
  {
   "cell_type": "code",
   "execution_count": 36,
   "id": "aggregate-tennessee",
   "metadata": {},
   "outputs": [
    {
     "name": "stderr",
     "output_type": "stream",
     "text": [
      "Warning message:\n",
      "\"Removed 20 rows containing missing values (position_stack).\""
     ]
    },
    {
     "data": {
      "image/png": "[encoded data removed]",
      "text/plain": [
       "plot without title"
      ]
     },
     "metadata": {},
     "output_type": "display_data"
    }
   ],
   "source": [
    "gg"
   ]
  },
  {
   "cell_type": "code",
   "execution_count": 37,
   "id": "bronze-chair",
   "metadata": {},
   "outputs": [],
   "source": [
    "gg <- gg+coord_flip()"
   ]
  },
  {
   "cell_type": "code",
   "execution_count": 38,
   "id": "applied-reggae",
   "metadata": {},
   "outputs": [
    {
     "name": "stderr",
     "output_type": "stream",
     "text": [
      "Warning message:\n",
      "\"Removed 20 rows containing missing values (position_stack).\""
     ]
    },
    {
     "data": {
      "image/png": "[encoded data removed]",
      "text/plain": [
       "plot without title"
      ]
     },
     "metadata": {},
     "output_type": "display_data"
    }
   ],
   "source": [
    "gg"
   ]
  },
  {
   "cell_type": "code",
   "execution_count": 39,
   "id": "union-fleece",
   "metadata": {},
   "outputs": [],
   "source": [
    "gg <- gg + theme(legend.position = \"bottom\")"
   ]
  },
  {
   "cell_type": "code",
   "execution_count": 40,
   "id": "handy-chemistry",
   "metadata": {},
   "outputs": [
    {
     "name": "stderr",
     "output_type": "stream",
     "text": [
      "Warning message:\n",
      "\"Removed 20 rows containing missing values (position_stack).\""
     ]
    },
    {
     "data": {
      "image/png": "[encoded data removed]",
      "text/plain": [
       "plot without title"
      ]
     },
     "metadata": {},
     "output_type": "display_data"
    }
   ],
   "source": [
    "gg"
   ]
  },
  {
   "cell_type": "code",
   "execution_count": 41,
   "id": "narrative-marshall",
   "metadata": {},
   "outputs": [],
   "source": [
    "gg <- gg + scale_fill_discrete(breaks = c(\"강남\", \"영등포\", \"종로\", \"용산\", \"서초\"))"
   ]
  },
  {
   "cell_type": "code",
   "execution_count": 42,
   "id": "spectacular-mileage",
   "metadata": {},
   "outputs": [
    {
     "name": "stderr",
     "output_type": "stream",
     "text": [
      "Warning message:\n",
      "\"Removed 20 rows containing missing values (position_stack).\""
     ]
    },
    {
     "data": {
      "image/png": "[encoded data removed]",
      "text/plain": [
       "plot without title"
      ]
     },
     "metadata": {},
     "output_type": "display_data"
    }
   ],
   "source": [
    "gg"
   ]
  },
  {
   "cell_type": "code",
   "execution_count": 43,
   "id": "tutorial-class",
   "metadata": {},
   "outputs": [],
   "source": [
    "gg <- ggplot(data = reservation_r, aes(x = branch)) + geom_bar(stat = \"count\")"
   ]
  },
  {
   "cell_type": "code",
   "execution_count": 44,
   "id": "environmental-board",
   "metadata": {},
   "outputs": [
    {
     "data": {
      "image/png": "[encoded data removed]",
      "text/plain": [
       "plot without title"
      ]
     },
     "metadata": {},
     "output_type": "display_data"
    }
   ],
   "source": [
    "gg"
   ]
  },
  {
   "cell_type": "code",
   "execution_count": 45,
   "id": "scheduled-outreach",
   "metadata": {},
   "outputs": [],
   "source": [
    "gg <- ggplot(data = reservation_r, aes(x = branch)) +\n",
    "    geom_bar(stat = \"count\") +\n",
    "    labs(title = '지점별 예약 건수', x = '지점', y = '예약건')"
   ]
  },
  {
   "cell_type": "code",
   "execution_count": 46,
   "id": "quarterly-parker",
   "metadata": {},
   "outputs": [
    {
     "data": {
      "image/png": "[encoded data removed]",
      "text/plain": [
       "plot without title"
      ]
     },
     "metadata": {},
     "output_type": "display_data"
    }
   ],
   "source": [
    "gg"
   ]
  },
  {
   "cell_type": "code",
   "execution_count": 47,
   "id": "applicable-madonna",
   "metadata": {},
   "outputs": [
    {
     "data": {
      "image/png": "[encoded data removed]",
      "text/plain": [
       "plot without title"
      ]
     },
     "metadata": {},
     "output_type": "display_data"
    }
   ],
   "source": [
    "ggplot(data = order_info_r, aes(x = sales/1000))+\n",
    "geom_histogram(binwidth = 5)"
   ]
  },
  {
   "cell_type": "code",
   "execution_count": 48,
   "id": "available-tanzania",
   "metadata": {},
   "outputs": [
    {
     "data": {
      "text/html": [
       "<table>\n",
       "<thead><tr><th scope=col>item_id</th><th scope=col>amt_item</th><th scope=col>product_name</th></tr></thead>\n",
       "<tbody>\n",
       "\t<tr><td>M0001      </td><td>5808       </td><td>SPECIAL_SET</td></tr>\n",
       "\t<tr><td>M0002      </td><td>1968       </td><td>PASTA      </td></tr>\n",
       "\t<tr><td>M0003      </td><td>1666       </td><td>PIZZA      </td></tr>\n",
       "\t<tr><td>M0004      </td><td>1625       </td><td>SEA_FOOD   </td></tr>\n",
       "\t<tr><td>M0005      </td><td>9380       </td><td>STEAK      </td></tr>\n",
       "\t<tr><td>M0006      </td><td>2075       </td><td>SALAD_BAR  </td></tr>\n",
       "\t<tr><td>M0007      </td><td> 525       </td><td>SALAD      </td></tr>\n",
       "\t<tr><td>M0008      </td><td> 610       </td><td>SANDWICH   </td></tr>\n",
       "\t<tr><td>M0009      </td><td> 856       </td><td>WINE       </td></tr>\n",
       "\t<tr><td>M0010      </td><td> 444       </td><td>JUICE      </td></tr>\n",
       "</tbody>\n",
       "</table>\n"
      ],
      "text/latex": [
       "\\begin{tabular}{r|lll}\n",
       " item\\_id & amt\\_item & product\\_name\\\\\n",
       "\\hline\n",
       "\t M0001         & 5808          & SPECIAL\\_SET\\\\\n",
       "\t M0002       & 1968        & PASTA      \\\\\n",
       "\t M0003       & 1666        & PIZZA      \\\\\n",
       "\t M0004         & 1625          & SEA\\_FOOD   \\\\\n",
       "\t M0005       & 9380        & STEAK      \\\\\n",
       "\t M0006         & 2075          & SALAD\\_BAR  \\\\\n",
       "\t M0007       &  525        & SALAD      \\\\\n",
       "\t M0008       &  610        & SANDWICH   \\\\\n",
       "\t M0009       &  856        & WINE       \\\\\n",
       "\t M0010       &  444        & JUICE      \\\\\n",
       "\\end{tabular}\n"
      ],
      "text/markdown": [
       "\n",
       "| item_id | amt_item | product_name |\n",
       "|---|---|---|\n",
       "| M0001       | 5808        | SPECIAL_SET |\n",
       "| M0002       | 1968        | PASTA       |\n",
       "| M0003       | 1666        | PIZZA       |\n",
       "| M0004       | 1625        | SEA_FOOD    |\n",
       "| M0005       | 9380        | STEAK       |\n",
       "| M0006       | 2075        | SALAD_BAR   |\n",
       "| M0007       |  525        | SALAD       |\n",
       "| M0008       |  610        | SANDWICH    |\n",
       "| M0009       |  856        | WINE        |\n",
       "| M0010       |  444        | JUICE       |\n",
       "\n"
      ],
      "text/plain": [
       "   item_id amt_item product_name\n",
       "1  M0001   5808     SPECIAL_SET \n",
       "2  M0002   1968     PASTA       \n",
       "3  M0003   1666     PIZZA       \n",
       "4  M0004   1625     SEA_FOOD    \n",
       "5  M0005   9380     STEAK       \n",
       "6  M0006   2075     SALAD_BAR   \n",
       "7  M0007    525     SALAD       \n",
       "8  M0008    610     SANDWICH    \n",
       "9  M0009    856     WINE        \n",
       "10 M0010    444     JUICE       "
      ]
     },
     "metadata": {},
     "output_type": "display_data"
    }
   ],
   "source": [
    "df_pie_graph <- inner_join(order_info_r, item_r, by = \"item_id\") %>%\n",
    "    group_by(item_id, product_name) %>%\n",
    "    summarise(amt_item = sum(sales/1000)) %>%\n",
    "    select(item_id, amt_item, product_name)\n",
    "\n",
    "df_pie_graph"
   ]
  },
  {
   "cell_type": "code",
   "execution_count": 49,
   "id": "caring-partition",
   "metadata": {},
   "outputs": [
    {
     "data": {
      "image/png": "[encoded data removed]",
      "text/plain": [
       "plot without title"
      ]
     },
     "metadata": {},
     "output_type": "display_data"
    }
   ],
   "source": [
    "ggplot(df_pie_graph, aes(x = '', y = amt_item, fill = product_name))+\n",
    "    geom_bar(stat = 'identity')"
   ]
  },
  {
   "cell_type": "code",
   "execution_count": 50,
   "id": "southeast-astronomy",
   "metadata": {},
   "outputs": [],
   "source": [
    "gg <- ggplot(df_pie_graph,aes(x = '', y = amt_item, fill = product_name))+\n",
    "geom_bar(stat = 'identity')+\n",
    "coord_polar('y', start = 0)"
   ]
  },
  {
   "cell_type": "code",
   "execution_count": 51,
   "id": "friendly-reliance",
   "metadata": {},
   "outputs": [
    {
     "data": {
      "image/png": "[encoded data removed]",
      "text/plain": [
       "plot without title"
      ]
     },
     "metadata": {},
     "output_type": "display_data"
    }
   ],
   "source": [
    "gg"
   ]
  },
  {
   "cell_type": "code",
   "execution_count": 52,
   "id": "derived-resource",
   "metadata": {},
   "outputs": [
    {
     "name": "stderr",
     "output_type": "stream",
     "text": [
      "Warning message in pal_name(palette, type):\n",
      "\"Unknown palette Apple\"Warning message in RColorBrewer::brewer.pal(n, pal):\n",
      "\"n too large, allowed maximum for palette Greens is 9\n",
      "Returning the palette you asked for with that many colors\n",
      "\""
     ]
    },
    {
     "data": {
      "image/png": "[encoded data removed]",
      "text/plain": [
       "plot without title"
      ]
     },
     "metadata": {},
     "output_type": "display_data"
    }
   ],
   "source": [
    "gg <- gg + scale_fill_brewer(palette = 'Apple')\n",
    "gg"
   ]
  },
  {
   "cell_type": "code",
   "execution_count": 53,
   "id": "advanced-partnership",
   "metadata": {},
   "outputs": [
    {
     "data": {
      "text/html": [
       "<table>\n",
       "<thead><tr><th scope=col>reserv_no</th><th scope=col>amt_daily</th></tr></thead>\n",
       "<tbody>\n",
       "\t<tr><td>2019060301</td><td>140       </td></tr>\n",
       "\t<tr><td>2019060601</td><td>152       </td></tr>\n",
       "\t<tr><td>2019060701</td><td> 48       </td></tr>\n",
       "\t<tr><td>2019061601</td><td>105       </td></tr>\n",
       "\t<tr><td>2019061801</td><td> 48       </td></tr>\n",
       "\t<tr><td>2019062001</td><td> 10       </td></tr>\n",
       "\t<tr><td>2019062201</td><td> 48       </td></tr>\n",
       "\t<tr><td>2019062601</td><td>  8       </td></tr>\n",
       "\t<tr><td>2019062901</td><td> 54       </td></tr>\n",
       "\t<tr><td>2019070101</td><td> 50       </td></tr>\n",
       "\t<tr><td>2019070102</td><td>100       </td></tr>\n",
       "\t<tr><td>2019070302</td><td> 50       </td></tr>\n",
       "\t<tr><td>2019070501</td><td> 48       </td></tr>\n",
       "\t<tr><td>2019070702</td><td> 46       </td></tr>\n",
       "\t<tr><td>2019070801</td><td> 70       </td></tr>\n",
       "\t<tr><td>2019071001</td><td> 48       </td></tr>\n",
       "\t<tr><td>2019071002</td><td>105       </td></tr>\n",
       "\t<tr><td>2019071101</td><td> 58       </td></tr>\n",
       "\t<tr><td>2019071201</td><td> 49       </td></tr>\n",
       "\t<tr><td>2019071401</td><td> 17       </td></tr>\n",
       "\t<tr><td>2019071501</td><td> 36       </td></tr>\n",
       "\t<tr><td>2019071601</td><td> 75       </td></tr>\n",
       "\t<tr><td>2019071602</td><td> 10       </td></tr>\n",
       "\t<tr><td>2019071801</td><td>140       </td></tr>\n",
       "\t<tr><td>2019071901</td><td> 73       </td></tr>\n",
       "\t<tr><td>2019072002</td><td> 10       </td></tr>\n",
       "\t<tr><td>2019072101</td><td>  6       </td></tr>\n",
       "\t<tr><td>2019072102</td><td> 17       </td></tr>\n",
       "\t<tr><td>2019072203</td><td> 50       </td></tr>\n",
       "\t<tr><td>2019072401</td><td>105       </td></tr>\n",
       "\t<tr><td>...</td><td>...</td></tr>\n",
       "\t<tr><td>2019122603</td><td> 35       </td></tr>\n",
       "\t<tr><td>2019122604</td><td>264       </td></tr>\n",
       "\t<tr><td>2019122605</td><td>100       </td></tr>\n",
       "\t<tr><td>2019122701</td><td>100       </td></tr>\n",
       "\t<tr><td>2019122702</td><td> 86       </td></tr>\n",
       "\t<tr><td>2019122703</td><td> 86       </td></tr>\n",
       "\t<tr><td>2019122704</td><td> 48       </td></tr>\n",
       "\t<tr><td>2019122706</td><td> 24       </td></tr>\n",
       "\t<tr><td>2019122801</td><td>215       </td></tr>\n",
       "\t<tr><td>2019122802</td><td> 60       </td></tr>\n",
       "\t<tr><td>2019122803</td><td> 50       </td></tr>\n",
       "\t<tr><td>2019122804</td><td> 86       </td></tr>\n",
       "\t<tr><td>2019122805</td><td> 17       </td></tr>\n",
       "\t<tr><td>2019122806</td><td>240       </td></tr>\n",
       "\t<tr><td>2019122807</td><td> 34       </td></tr>\n",
       "\t<tr><td>2019122808</td><td> 10       </td></tr>\n",
       "\t<tr><td>2019122809</td><td>140       </td></tr>\n",
       "\t<tr><td>2019122810</td><td> 86       </td></tr>\n",
       "\t<tr><td>2019122901</td><td>172       </td></tr>\n",
       "\t<tr><td>2019122902</td><td> 34       </td></tr>\n",
       "\t<tr><td>2019123002</td><td> 51       </td></tr>\n",
       "\t<tr><td>2019123003</td><td>192       </td></tr>\n",
       "\t<tr><td>2019123005</td><td> 70       </td></tr>\n",
       "\t<tr><td>2019123006</td><td> 43       </td></tr>\n",
       "\t<tr><td>2019123101</td><td>140       </td></tr>\n",
       "\t<tr><td>2019123102</td><td>100       </td></tr>\n",
       "\t<tr><td>2019123104</td><td> 30       </td></tr>\n",
       "\t<tr><td>2019123105</td><td>192       </td></tr>\n",
       "\t<tr><td>2019123106</td><td>210       </td></tr>\n",
       "\t<tr><td>2019123107</td><td>172       </td></tr>\n",
       "</tbody>\n",
       "</table>\n"
      ],
      "text/latex": [
       "\\begin{tabular}{r|ll}\n",
       " reserv\\_no & amt\\_daily\\\\\n",
       "\\hline\n",
       "\t 2019060301 & 140       \\\\\n",
       "\t 2019060601 & 152       \\\\\n",
       "\t 2019060701 &  48       \\\\\n",
       "\t 2019061601 & 105       \\\\\n",
       "\t 2019061801 &  48       \\\\\n",
       "\t 2019062001 &  10       \\\\\n",
       "\t 2019062201 &  48       \\\\\n",
       "\t 2019062601 &   8       \\\\\n",
       "\t 2019062901 &  54       \\\\\n",
       "\t 2019070101 &  50       \\\\\n",
       "\t 2019070102 & 100       \\\\\n",
       "\t 2019070302 &  50       \\\\\n",
       "\t 2019070501 &  48       \\\\\n",
       "\t 2019070702 &  46       \\\\\n",
       "\t 2019070801 &  70       \\\\\n",
       "\t 2019071001 &  48       \\\\\n",
       "\t 2019071002 & 105       \\\\\n",
       "\t 2019071101 &  58       \\\\\n",
       "\t 2019071201 &  49       \\\\\n",
       "\t 2019071401 &  17       \\\\\n",
       "\t 2019071501 &  36       \\\\\n",
       "\t 2019071601 &  75       \\\\\n",
       "\t 2019071602 &  10       \\\\\n",
       "\t 2019071801 & 140       \\\\\n",
       "\t 2019071901 &  73       \\\\\n",
       "\t 2019072002 &  10       \\\\\n",
       "\t 2019072101 &   6       \\\\\n",
       "\t 2019072102 &  17       \\\\\n",
       "\t 2019072203 &  50       \\\\\n",
       "\t 2019072401 & 105       \\\\\n",
       "\t ... & ...\\\\\n",
       "\t 2019122603 &  35       \\\\\n",
       "\t 2019122604 & 264       \\\\\n",
       "\t 2019122605 & 100       \\\\\n",
       "\t 2019122701 & 100       \\\\\n",
       "\t 2019122702 &  86       \\\\\n",
       "\t 2019122703 &  86       \\\\\n",
       "\t 2019122704 &  48       \\\\\n",
       "\t 2019122706 &  24       \\\\\n",
       "\t 2019122801 & 215       \\\\\n",
       "\t 2019122802 &  60       \\\\\n",
       "\t 2019122803 &  50       \\\\\n",
       "\t 2019122804 &  86       \\\\\n",
       "\t 2019122805 &  17       \\\\\n",
       "\t 2019122806 & 240       \\\\\n",
       "\t 2019122807 &  34       \\\\\n",
       "\t 2019122808 &  10       \\\\\n",
       "\t 2019122809 & 140       \\\\\n",
       "\t 2019122810 &  86       \\\\\n",
       "\t 2019122901 & 172       \\\\\n",
       "\t 2019122902 &  34       \\\\\n",
       "\t 2019123002 &  51       \\\\\n",
       "\t 2019123003 & 192       \\\\\n",
       "\t 2019123005 &  70       \\\\\n",
       "\t 2019123006 &  43       \\\\\n",
       "\t 2019123101 & 140       \\\\\n",
       "\t 2019123102 & 100       \\\\\n",
       "\t 2019123104 &  30       \\\\\n",
       "\t 2019123105 & 192       \\\\\n",
       "\t 2019123106 & 210       \\\\\n",
       "\t 2019123107 & 172       \\\\\n",
       "\\end{tabular}\n"
      ],
      "text/markdown": [
       "\n",
       "| reserv_no | amt_daily |\n",
       "|---|---|\n",
       "| 2019060301 | 140        |\n",
       "| 2019060601 | 152        |\n",
       "| 2019060701 |  48        |\n",
       "| 2019061601 | 105        |\n",
       "| 2019061801 |  48        |\n",
       "| 2019062001 |  10        |\n",
       "| 2019062201 |  48        |\n",
       "| 2019062601 |   8        |\n",
       "| 2019062901 |  54        |\n",
       "| 2019070101 |  50        |\n",
       "| 2019070102 | 100        |\n",
       "| 2019070302 |  50        |\n",
       "| 2019070501 |  48        |\n",
       "| 2019070702 |  46        |\n",
       "| 2019070801 |  70        |\n",
       "| 2019071001 |  48        |\n",
       "| 2019071002 | 105        |\n",
       "| 2019071101 |  58        |\n",
       "| 2019071201 |  49        |\n",
       "| 2019071401 |  17        |\n",
       "| 2019071501 |  36        |\n",
       "| 2019071601 |  75        |\n",
       "| 2019071602 |  10        |\n",
       "| 2019071801 | 140        |\n",
       "| 2019071901 |  73        |\n",
       "| 2019072002 |  10        |\n",
       "| 2019072101 |   6        |\n",
       "| 2019072102 |  17        |\n",
       "| 2019072203 |  50        |\n",
       "| 2019072401 | 105        |\n",
       "| ... | ... |\n",
       "| 2019122603 |  35        |\n",
       "| 2019122604 | 264        |\n",
       "| 2019122605 | 100        |\n",
       "| 2019122701 | 100        |\n",
       "| 2019122702 |  86        |\n",
       "| 2019122703 |  86        |\n",
       "| 2019122704 |  48        |\n",
       "| 2019122706 |  24        |\n",
       "| 2019122801 | 215        |\n",
       "| 2019122802 |  60        |\n",
       "| 2019122803 |  50        |\n",
       "| 2019122804 |  86        |\n",
       "| 2019122805 |  17        |\n",
       "| 2019122806 | 240        |\n",
       "| 2019122807 |  34        |\n",
       "| 2019122808 |  10        |\n",
       "| 2019122809 | 140        |\n",
       "| 2019122810 |  86        |\n",
       "| 2019122901 | 172        |\n",
       "| 2019122902 |  34        |\n",
       "| 2019123002 |  51        |\n",
       "| 2019123003 | 192        |\n",
       "| 2019123005 |  70        |\n",
       "| 2019123006 |  43        |\n",
       "| 2019123101 | 140        |\n",
       "| 2019123102 | 100        |\n",
       "| 2019123104 |  30        |\n",
       "| 2019123105 | 192        |\n",
       "| 2019123106 | 210        |\n",
       "| 2019123107 | 172        |\n",
       "\n"
      ],
      "text/plain": [
       "    reserv_no  amt_daily\n",
       "1   2019060301 140      \n",
       "2   2019060601 152      \n",
       "3   2019060701  48      \n",
       "4   2019061601 105      \n",
       "5   2019061801  48      \n",
       "6   2019062001  10      \n",
       "7   2019062201  48      \n",
       "8   2019062601   8      \n",
       "9   2019062901  54      \n",
       "10  2019070101  50      \n",
       "11  2019070102 100      \n",
       "12  2019070302  50      \n",
       "13  2019070501  48      \n",
       "14  2019070702  46      \n",
       "15  2019070801  70      \n",
       "16  2019071001  48      \n",
       "17  2019071002 105      \n",
       "18  2019071101  58      \n",
       "19  2019071201  49      \n",
       "20  2019071401  17      \n",
       "21  2019071501  36      \n",
       "22  2019071601  75      \n",
       "23  2019071602  10      \n",
       "24  2019071801 140      \n",
       "25  2019071901  73      \n",
       "26  2019072002  10      \n",
       "27  2019072101   6      \n",
       "28  2019072102  17      \n",
       "29  2019072203  50      \n",
       "30  2019072401 105      \n",
       "... ...        ...      \n",
       "308 2019122603  35      \n",
       "309 2019122604 264      \n",
       "310 2019122605 100      \n",
       "311 2019122701 100      \n",
       "312 2019122702  86      \n",
       "313 2019122703  86      \n",
       "314 2019122704  48      \n",
       "315 2019122706  24      \n",
       "316 2019122801 215      \n",
       "317 2019122802  60      \n",
       "318 2019122803  50      \n",
       "319 2019122804  86      \n",
       "320 2019122805  17      \n",
       "321 2019122806 240      \n",
       "322 2019122807  34      \n",
       "323 2019122808  10      \n",
       "324 2019122809 140      \n",
       "325 2019122810  86      \n",
       "326 2019122901 172      \n",
       "327 2019122902  34      \n",
       "328 2019123002  51      \n",
       "329 2019123003 192      \n",
       "330 2019123005  70      \n",
       "331 2019123006  43      \n",
       "332 2019123101 140      \n",
       "333 2019123102 100      \n",
       "334 2019123104  30      \n",
       "335 2019123105 192      \n",
       "336 2019123106 210      \n",
       "337 2019123107 172      "
      ]
     },
     "metadata": {},
     "output_type": "display_data"
    }
   ],
   "source": [
    "total_amt <- order_info_r %>% \n",
    "group_by(reserv_no) %>% \n",
    "summarise(amt_daily = sum(sales/1000)) %>% \n",
    "arrange(reserv_no)\n",
    "\n",
    "total_amt"
   ]
  },
  {
   "cell_type": "code",
   "execution_count": 54,
   "id": "devoted-boxing",
   "metadata": {},
   "outputs": [
    {
     "data": {
      "image/png": "[encoded data removed]",
      "text/plain": [
       "plot without title"
      ]
     },
     "metadata": {},
     "output_type": "display_data"
    }
   ],
   "source": [
    "ggplot(total_amt,aes(x = reserv_no, y = amt_daily, group = 1)) + geom_line()"
   ]
  },
  {
   "cell_type": "code",
   "execution_count": 55,
   "id": "corrected-apparel",
   "metadata": {},
   "outputs": [
    {
     "data": {
      "text/html": [
       "<table>\n",
       "<thead><tr><th scope=col>month</th><th scope=col>amt_monthly</th></tr></thead>\n",
       "<tbody>\n",
       "\t<tr><td>201906</td><td>  613 </td></tr>\n",
       "\t<tr><td>201907</td><td> 1744 </td></tr>\n",
       "\t<tr><td>201908</td><td> 1622 </td></tr>\n",
       "\t<tr><td>201909</td><td> 1586 </td></tr>\n",
       "\t<tr><td>201910</td><td> 3333 </td></tr>\n",
       "\t<tr><td>201911</td><td> 5197 </td></tr>\n",
       "\t<tr><td>201912</td><td>10862 </td></tr>\n",
       "</tbody>\n",
       "</table>\n"
      ],
      "text/latex": [
       "\\begin{tabular}{r|ll}\n",
       " month & amt\\_monthly\\\\\n",
       "\\hline\n",
       "\t 201906 &   613 \\\\\n",
       "\t 201907 &  1744 \\\\\n",
       "\t 201908 &  1622 \\\\\n",
       "\t 201909 &  1586 \\\\\n",
       "\t 201910 &  3333 \\\\\n",
       "\t 201911 &  5197 \\\\\n",
       "\t 201912 & 10862 \\\\\n",
       "\\end{tabular}\n"
      ],
      "text/markdown": [
       "\n",
       "| month | amt_monthly |\n",
       "|---|---|\n",
       "| 201906 |   613  |\n",
       "| 201907 |  1744  |\n",
       "| 201908 |  1622  |\n",
       "| 201909 |  1586  |\n",
       "| 201910 |  3333  |\n",
       "| 201911 |  5197  |\n",
       "| 201912 | 10862  |\n",
       "\n"
      ],
      "text/plain": [
       "  month  amt_monthly\n",
       "1 201906   613      \n",
       "2 201907  1744      \n",
       "3 201908  1622      \n",
       "4 201909  1586      \n",
       "5 201910  3333      \n",
       "6 201911  5197      \n",
       "7 201912 10862      "
      ]
     },
     "metadata": {},
     "output_type": "display_data"
    }
   ],
   "source": [
    "total_amt <- order_info_r %>% \n",
    "mutate(month = substr(reserv_no,1,6)) %>% \n",
    "group_by(month) %>% \n",
    "summarise(amt_monthly = sum(sales/1000))\n",
    "\n",
    "total_amt"
   ]
  },
  {
   "cell_type": "code",
   "execution_count": 56,
   "id": "wooden-beverage",
   "metadata": {},
   "outputs": [
    {
     "data": {
      "image/png": "[encoded data removed]",
      "text/plain": [
       "plot without title"
      ]
     },
     "metadata": {},
     "output_type": "display_data"
    }
   ],
   "source": [
    "ggplot(total_amt, aes(x = month, y = amt_monthly, group = 1)) + geom_line()"
   ]
  },
  {
   "cell_type": "code",
   "execution_count": 58,
   "id": "satellite-toyota",
   "metadata": {},
   "outputs": [
    {
     "data": {
      "image/png": "[encoded data removed]",
      "text/plain": [
       "plot without title"
      ]
     },
     "metadata": {},
     "output_type": "display_data"
    }
   ],
   "source": [
    "ggplot(total_amt, aes(x = month, y = amt_monthly, group = 1)) +\n",
    "geom_line()+\n",
    "geom_point()"
   ]
  },
  {
   "cell_type": "code",
   "execution_count": 62,
   "id": "minute-perry",
   "metadata": {
    "scrolled": true
   },
   "outputs": [
    {
     "data": {
      "image/png": "[encoded data removed]",
      "text/plain": [
       "plot without title"
      ]
     },
     "metadata": {},
     "output_type": "display_data"
    }
   ],
   "source": [
    "ggplot(total_amt, aes(x = month, y = amt_monthly, group = 1, label = amt_monthly)) +\n",
    "geom_line(color = 'red', size = 1)+\n",
    "geom_point(color = 'darkred', size = 3)+\n",
    "geom_text(vjust = 1.5, hjust = 0.5)"
   ]
  },
  {
   "cell_type": "code",
   "execution_count": 63,
   "id": "architectural-humanity",
   "metadata": {},
   "outputs": [],
   "source": [
    "df_boxplot_graph <- inner_join(order_info_r,item_r, by = 'item_id')"
   ]
  },
  {
   "cell_type": "code",
   "execution_count": 64,
   "id": "concerned-intent",
   "metadata": {},
   "outputs": [
    {
     "data": {
      "image/png": "[encoded data removed]",
      "text/plain": [
       "plot without title"
      ]
     },
     "metadata": {},
     "output_type": "display_data"
    }
   ],
   "source": [
    "ggplot(df_boxplot_graph, aes(x = product_name, y = sales/1000))+\n",
    "geom_boxplot(width = 0.8, outlier.size = 2, outlier.colour = 'red')+\n",
    "labs(title = '메뉴아이템 상자그림', x = '메뉴', y = '매출')"
   ]
  },
  {
   "cell_type": "code",
   "execution_count": 65,
   "id": "specific-routine",
   "metadata": {},
   "outputs": [
    {
     "data": {
      "text/html": [
       "<table>\n",
       "<thead><tr><th scope=col>item_id</th><th scope=col>reserv_month</th><th scope=col>avg_sales</th></tr></thead>\n",
       "<tbody>\n",
       "\t<tr><td>M0001    </td><td>201906   </td><td> 48000.00</td></tr>\n",
       "\t<tr><td>M0001    </td><td>201907   </td><td> 68000.00</td></tr>\n",
       "\t<tr><td>M0001    </td><td>201908   </td><td> 56000.00</td></tr>\n",
       "\t<tr><td>M0001    </td><td>201909   </td><td> 66000.00</td></tr>\n",
       "\t<tr><td>M0001    </td><td>201910   </td><td> 92000.00</td></tr>\n",
       "\t<tr><td>M0001    </td><td>201911   </td><td> 68307.69</td></tr>\n",
       "\t<tr><td>M0001    </td><td>201912   </td><td>153142.86</td></tr>\n",
       "\t<tr><td>M0002    </td><td>201906   </td><td> 24000.00</td></tr>\n",
       "\t<tr><td>M0002    </td><td>201907   </td><td> 38000.00</td></tr>\n",
       "\t<tr><td>M0002    </td><td>201908   </td><td> 21600.00</td></tr>\n",
       "\t<tr><td>M0002    </td><td>201909   </td><td> 24000.00</td></tr>\n",
       "\t<tr><td>M0002    </td><td>201910   </td><td> 37333.33</td></tr>\n",
       "\t<tr><td>M0002    </td><td>201911   </td><td> 49200.00</td></tr>\n",
       "\t<tr><td>M0002    </td><td>201912   </td><td> 34736.84</td></tr>\n",
       "\t<tr><td>M0003    </td><td>201907   </td><td> 25500.00</td></tr>\n",
       "\t<tr><td>M0003    </td><td>201908   </td><td> 27200.00</td></tr>\n",
       "\t<tr><td>M0003    </td><td>201909   </td><td> 29750.00</td></tr>\n",
       "\t<tr><td>M0003    </td><td>201910   </td><td> 48875.00</td></tr>\n",
       "\t<tr><td>M0003    </td><td>201911   </td><td> 36266.67</td></tr>\n",
       "\t<tr><td>M0003    </td><td>201912   </td><td> 31875.00</td></tr>\n",
       "\t<tr><td>M0004    </td><td>201907   </td><td> 58333.33</td></tr>\n",
       "\t<tr><td>M0004    </td><td>201908   </td><td> 56250.00</td></tr>\n",
       "\t<tr><td>M0004    </td><td>201909   </td><td> 75000.00</td></tr>\n",
       "\t<tr><td>M0004    </td><td>201910   </td><td> 66666.67</td></tr>\n",
       "\t<tr><td>M0004    </td><td>201911   </td><td> 85000.00</td></tr>\n",
       "\t<tr><td>M0004    </td><td>201912   </td><td> 60000.00</td></tr>\n",
       "\t<tr><td>M0005    </td><td>201906   </td><td>128333.33</td></tr>\n",
       "\t<tr><td>M0005    </td><td>201907   </td><td>105000.00</td></tr>\n",
       "\t<tr><td>M0005    </td><td>201908   </td><td> 91000.00</td></tr>\n",
       "\t<tr><td>M0005    </td><td>201909   </td><td> 70000.00</td></tr>\n",
       "\t<tr><td>...</td><td>...</td><td>...</td></tr>\n",
       "\t<tr><td>M0006   </td><td>201909  </td><td>50000.00</td></tr>\n",
       "\t<tr><td>M0006   </td><td>201910  </td><td>70833.33</td></tr>\n",
       "\t<tr><td>M0006   </td><td>201911  </td><td>80000.00</td></tr>\n",
       "\t<tr><td>M0006   </td><td>201912  </td><td>75000.00</td></tr>\n",
       "\t<tr><td>M0007   </td><td>201906  </td><td>30000.00</td></tr>\n",
       "\t<tr><td>M0007   </td><td>201908  </td><td>15000.00</td></tr>\n",
       "\t<tr><td>M0007   </td><td>201909  </td><td>45000.00</td></tr>\n",
       "\t<tr><td>M0007   </td><td>201910  </td><td>45000.00</td></tr>\n",
       "\t<tr><td>M0007   </td><td>201911  </td><td>26250.00</td></tr>\n",
       "\t<tr><td>M0007   </td><td>201912  </td><td>50000.00</td></tr>\n",
       "\t<tr><td>M0008   </td><td>201906  </td><td>10000.00</td></tr>\n",
       "\t<tr><td>M0008   </td><td>201907  </td><td>17500.00</td></tr>\n",
       "\t<tr><td>M0008   </td><td>201908  </td><td>18000.00</td></tr>\n",
       "\t<tr><td>M0008   </td><td>201909  </td><td>15000.00</td></tr>\n",
       "\t<tr><td>M0008   </td><td>201910  </td><td>13333.33</td></tr>\n",
       "\t<tr><td>M0008   </td><td>201911  </td><td>21428.57</td></tr>\n",
       "\t<tr><td>M0008   </td><td>201912  </td><td>16923.08</td></tr>\n",
       "\t<tr><td>M0009   </td><td>201906  </td><td> 8000.00</td></tr>\n",
       "\t<tr><td>M0009   </td><td>201908  </td><td>13333.33</td></tr>\n",
       "\t<tr><td>M0009   </td><td>201909  </td><td>16000.00</td></tr>\n",
       "\t<tr><td>M0009   </td><td>201910  </td><td>32000.00</td></tr>\n",
       "\t<tr><td>M0009   </td><td>201911  </td><td>50666.67</td></tr>\n",
       "\t<tr><td>M0009   </td><td>201912  </td><td>35076.92</td></tr>\n",
       "\t<tr><td>M0010   </td><td>201906  </td><td>12000.00</td></tr>\n",
       "\t<tr><td>M0010   </td><td>201907  </td><td>12000.00</td></tr>\n",
       "\t<tr><td>M0010   </td><td>201908  </td><td>21000.00</td></tr>\n",
       "\t<tr><td>M0010   </td><td>201909  </td><td>24000.00</td></tr>\n",
       "\t<tr><td>M0010   </td><td>201910  </td><td>25500.00</td></tr>\n",
       "\t<tr><td>M0010   </td><td>201911  </td><td>34800.00</td></tr>\n",
       "\t<tr><td>M0010   </td><td>201912  </td><td>15000.00</td></tr>\n",
       "</tbody>\n",
       "</table>\n"
      ],
      "text/latex": [
       "\\begin{tabular}{r|lll}\n",
       " item\\_id & reserv\\_month & avg\\_sales\\\\\n",
       "\\hline\n",
       "\t M0001     & 201906    &  48000.00\\\\\n",
       "\t M0001     & 201907    &  68000.00\\\\\n",
       "\t M0001     & 201908    &  56000.00\\\\\n",
       "\t M0001     & 201909    &  66000.00\\\\\n",
       "\t M0001     & 201910    &  92000.00\\\\\n",
       "\t M0001     & 201911    &  68307.69\\\\\n",
       "\t M0001     & 201912    & 153142.86\\\\\n",
       "\t M0002     & 201906    &  24000.00\\\\\n",
       "\t M0002     & 201907    &  38000.00\\\\\n",
       "\t M0002     & 201908    &  21600.00\\\\\n",
       "\t M0002     & 201909    &  24000.00\\\\\n",
       "\t M0002     & 201910    &  37333.33\\\\\n",
       "\t M0002     & 201911    &  49200.00\\\\\n",
       "\t M0002     & 201912    &  34736.84\\\\\n",
       "\t M0003     & 201907    &  25500.00\\\\\n",
       "\t M0003     & 201908    &  27200.00\\\\\n",
       "\t M0003     & 201909    &  29750.00\\\\\n",
       "\t M0003     & 201910    &  48875.00\\\\\n",
       "\t M0003     & 201911    &  36266.67\\\\\n",
       "\t M0003     & 201912    &  31875.00\\\\\n",
       "\t M0004     & 201907    &  58333.33\\\\\n",
       "\t M0004     & 201908    &  56250.00\\\\\n",
       "\t M0004     & 201909    &  75000.00\\\\\n",
       "\t M0004     & 201910    &  66666.67\\\\\n",
       "\t M0004     & 201911    &  85000.00\\\\\n",
       "\t M0004     & 201912    &  60000.00\\\\\n",
       "\t M0005     & 201906    & 128333.33\\\\\n",
       "\t M0005     & 201907    & 105000.00\\\\\n",
       "\t M0005     & 201908    &  91000.00\\\\\n",
       "\t M0005     & 201909    &  70000.00\\\\\n",
       "\t ... & ... & ...\\\\\n",
       "\t M0006    & 201909   & 50000.00\\\\\n",
       "\t M0006    & 201910   & 70833.33\\\\\n",
       "\t M0006    & 201911   & 80000.00\\\\\n",
       "\t M0006    & 201912   & 75000.00\\\\\n",
       "\t M0007    & 201906   & 30000.00\\\\\n",
       "\t M0007    & 201908   & 15000.00\\\\\n",
       "\t M0007    & 201909   & 45000.00\\\\\n",
       "\t M0007    & 201910   & 45000.00\\\\\n",
       "\t M0007    & 201911   & 26250.00\\\\\n",
       "\t M0007    & 201912   & 50000.00\\\\\n",
       "\t M0008    & 201906   & 10000.00\\\\\n",
       "\t M0008    & 201907   & 17500.00\\\\\n",
       "\t M0008    & 201908   & 18000.00\\\\\n",
       "\t M0008    & 201909   & 15000.00\\\\\n",
       "\t M0008    & 201910   & 13333.33\\\\\n",
       "\t M0008    & 201911   & 21428.57\\\\\n",
       "\t M0008    & 201912   & 16923.08\\\\\n",
       "\t M0009    & 201906   &  8000.00\\\\\n",
       "\t M0009    & 201908   & 13333.33\\\\\n",
       "\t M0009    & 201909   & 16000.00\\\\\n",
       "\t M0009    & 201910   & 32000.00\\\\\n",
       "\t M0009    & 201911   & 50666.67\\\\\n",
       "\t M0009    & 201912   & 35076.92\\\\\n",
       "\t M0010    & 201906   & 12000.00\\\\\n",
       "\t M0010    & 201907   & 12000.00\\\\\n",
       "\t M0010    & 201908   & 21000.00\\\\\n",
       "\t M0010    & 201909   & 24000.00\\\\\n",
       "\t M0010    & 201910   & 25500.00\\\\\n",
       "\t M0010    & 201911   & 34800.00\\\\\n",
       "\t M0010    & 201912   & 15000.00\\\\\n",
       "\\end{tabular}\n"
      ],
      "text/markdown": [
       "\n",
       "| item_id | reserv_month | avg_sales |\n",
       "|---|---|---|\n",
       "| M0001     | 201906    |  48000.00 |\n",
       "| M0001     | 201907    |  68000.00 |\n",
       "| M0001     | 201908    |  56000.00 |\n",
       "| M0001     | 201909    |  66000.00 |\n",
       "| M0001     | 201910    |  92000.00 |\n",
       "| M0001     | 201911    |  68307.69 |\n",
       "| M0001     | 201912    | 153142.86 |\n",
       "| M0002     | 201906    |  24000.00 |\n",
       "| M0002     | 201907    |  38000.00 |\n",
       "| M0002     | 201908    |  21600.00 |\n",
       "| M0002     | 201909    |  24000.00 |\n",
       "| M0002     | 201910    |  37333.33 |\n",
       "| M0002     | 201911    |  49200.00 |\n",
       "| M0002     | 201912    |  34736.84 |\n",
       "| M0003     | 201907    |  25500.00 |\n",
       "| M0003     | 201908    |  27200.00 |\n",
       "| M0003     | 201909    |  29750.00 |\n",
       "| M0003     | 201910    |  48875.00 |\n",
       "| M0003     | 201911    |  36266.67 |\n",
       "| M0003     | 201912    |  31875.00 |\n",
       "| M0004     | 201907    |  58333.33 |\n",
       "| M0004     | 201908    |  56250.00 |\n",
       "| M0004     | 201909    |  75000.00 |\n",
       "| M0004     | 201910    |  66666.67 |\n",
       "| M0004     | 201911    |  85000.00 |\n",
       "| M0004     | 201912    |  60000.00 |\n",
       "| M0005     | 201906    | 128333.33 |\n",
       "| M0005     | 201907    | 105000.00 |\n",
       "| M0005     | 201908    |  91000.00 |\n",
       "| M0005     | 201909    |  70000.00 |\n",
       "| ... | ... | ... |\n",
       "| M0006    | 201909   | 50000.00 |\n",
       "| M0006    | 201910   | 70833.33 |\n",
       "| M0006    | 201911   | 80000.00 |\n",
       "| M0006    | 201912   | 75000.00 |\n",
       "| M0007    | 201906   | 30000.00 |\n",
       "| M0007    | 201908   | 15000.00 |\n",
       "| M0007    | 201909   | 45000.00 |\n",
       "| M0007    | 201910   | 45000.00 |\n",
       "| M0007    | 201911   | 26250.00 |\n",
       "| M0007    | 201912   | 50000.00 |\n",
       "| M0008    | 201906   | 10000.00 |\n",
       "| M0008    | 201907   | 17500.00 |\n",
       "| M0008    | 201908   | 18000.00 |\n",
       "| M0008    | 201909   | 15000.00 |\n",
       "| M0008    | 201910   | 13333.33 |\n",
       "| M0008    | 201911   | 21428.57 |\n",
       "| M0008    | 201912   | 16923.08 |\n",
       "| M0009    | 201906   |  8000.00 |\n",
       "| M0009    | 201908   | 13333.33 |\n",
       "| M0009    | 201909   | 16000.00 |\n",
       "| M0009    | 201910   | 32000.00 |\n",
       "| M0009    | 201911   | 50666.67 |\n",
       "| M0009    | 201912   | 35076.92 |\n",
       "| M0010    | 201906   | 12000.00 |\n",
       "| M0010    | 201907   | 12000.00 |\n",
       "| M0010    | 201908   | 21000.00 |\n",
       "| M0010    | 201909   | 24000.00 |\n",
       "| M0010    | 201910   | 25500.00 |\n",
       "| M0010    | 201911   | 34800.00 |\n",
       "| M0010    | 201912   | 15000.00 |\n",
       "\n"
      ],
      "text/plain": [
       "    item_id reserv_month avg_sales\n",
       "1   M0001   201906        48000.00\n",
       "2   M0001   201907        68000.00\n",
       "3   M0001   201908        56000.00\n",
       "4   M0001   201909        66000.00\n",
       "5   M0001   201910        92000.00\n",
       "6   M0001   201911        68307.69\n",
       "7   M0001   201912       153142.86\n",
       "8   M0002   201906        24000.00\n",
       "9   M0002   201907        38000.00\n",
       "10  M0002   201908        21600.00\n",
       "11  M0002   201909        24000.00\n",
       "12  M0002   201910        37333.33\n",
       "13  M0002   201911        49200.00\n",
       "14  M0002   201912        34736.84\n",
       "15  M0003   201907        25500.00\n",
       "16  M0003   201908        27200.00\n",
       "17  M0003   201909        29750.00\n",
       "18  M0003   201910        48875.00\n",
       "19  M0003   201911        36266.67\n",
       "20  M0003   201912        31875.00\n",
       "21  M0004   201907        58333.33\n",
       "22  M0004   201908        56250.00\n",
       "23  M0004   201909        75000.00\n",
       "24  M0004   201910        66666.67\n",
       "25  M0004   201911        85000.00\n",
       "26  M0004   201912        60000.00\n",
       "27  M0005   201906       128333.33\n",
       "28  M0005   201907       105000.00\n",
       "29  M0005   201908        91000.00\n",
       "30  M0005   201909        70000.00\n",
       "... ...     ...          ...      \n",
       "36  M0006   201909       50000.00 \n",
       "37  M0006   201910       70833.33 \n",
       "38  M0006   201911       80000.00 \n",
       "39  M0006   201912       75000.00 \n",
       "40  M0007   201906       30000.00 \n",
       "41  M0007   201908       15000.00 \n",
       "42  M0007   201909       45000.00 \n",
       "43  M0007   201910       45000.00 \n",
       "44  M0007   201911       26250.00 \n",
       "45  M0007   201912       50000.00 \n",
       "46  M0008   201906       10000.00 \n",
       "47  M0008   201907       17500.00 \n",
       "48  M0008   201908       18000.00 \n",
       "49  M0008   201909       15000.00 \n",
       "50  M0008   201910       13333.33 \n",
       "51  M0008   201911       21428.57 \n",
       "52  M0008   201912       16923.08 \n",
       "53  M0009   201906        8000.00 \n",
       "54  M0009   201908       13333.33 \n",
       "55  M0009   201909       16000.00 \n",
       "56  M0009   201910       32000.00 \n",
       "57  M0009   201911       50666.67 \n",
       "58  M0009   201912       35076.92 \n",
       "59  M0010   201906       12000.00 \n",
       "60  M0010   201907       12000.00 \n",
       "61  M0010   201908       21000.00 \n",
       "62  M0010   201909       24000.00 \n",
       "63  M0010   201910       25500.00 \n",
       "64  M0010   201911       34800.00 \n",
       "65  M0010   201912       15000.00 "
      ]
     },
     "metadata": {},
     "output_type": "display_data"
    }
   ],
   "source": [
    "my_first_cook <- order_info_r %>%\n",
    "    mutate(reserv_month = substr(reserv_no, 1, 6)) %>%\n",
    "    group_by(item_id, reserv_month) %>%\n",
    "    summarise(avg_sales = mean(sales)) %>%\n",
    "    arrange(item_id, reserv_month)\n",
    "\n",
    "my_first_cook\n"
   ]
  },
  {
   "cell_type": "code",
   "execution_count": 66,
   "id": "sweet-scope",
   "metadata": {
    "scrolled": true
   },
   "outputs": [
    {
     "data": {
      "image/png": "[encoded data removed]",
      "text/plain": [
       "plot without title"
      ]
     },
     "metadata": {},
     "output_type": "display_data"
    }
   ],
   "source": [
    "ggplot(my_first_cook, aes(x = reserv_month, y = avg_sales, group = item_id, color = item_id)) +\n",
    "    geom_line(size = 1) +\n",
    "    geom_point(color = \"darkorange\", size = 1.5) +\n",
    "    scale_color_brewer(palette = \"Paired\") +\n",
    "    labs(title = \"메뉴 아이템별 월 평균 매출 추이\", x = \"월\", y = \"매출\")"
   ]
  },
  {
   "cell_type": "code",
   "execution_count": 69,
   "id": "increased-confidentiality",
   "metadata": {},
   "outputs": [
    {
     "data": {
      "text/html": [
       "<table>\n",
       "<thead><tr><th></th><th scope=col>len</th><th scope=col>supp</th><th scope=col>dose</th></tr></thead>\n",
       "<tbody>\n",
       "\t<tr><th scope=row>55</th><td>24.8</td><td>OJ  </td><td>2   </td></tr>\n",
       "\t<tr><th scope=row>56</th><td>30.9</td><td>OJ  </td><td>2   </td></tr>\n",
       "\t<tr><th scope=row>57</th><td>26.4</td><td>OJ  </td><td>2   </td></tr>\n",
       "\t<tr><th scope=row>58</th><td>27.3</td><td>OJ  </td><td>2   </td></tr>\n",
       "\t<tr><th scope=row>59</th><td>29.4</td><td>OJ  </td><td>2   </td></tr>\n",
       "\t<tr><th scope=row>60</th><td>23.0</td><td>OJ  </td><td>2   </td></tr>\n",
       "</tbody>\n",
       "</table>\n"
      ],
      "text/latex": [
       "\\begin{tabular}{r|lll}\n",
       "  & len & supp & dose\\\\\n",
       "\\hline\n",
       "\t55 & 24.8 & OJ   & 2   \\\\\n",
       "\t56 & 30.9 & OJ   & 2   \\\\\n",
       "\t57 & 26.4 & OJ   & 2   \\\\\n",
       "\t58 & 27.3 & OJ   & 2   \\\\\n",
       "\t59 & 29.4 & OJ   & 2   \\\\\n",
       "\t60 & 23.0 & OJ   & 2   \\\\\n",
       "\\end{tabular}\n"
      ],
      "text/markdown": [
       "\n",
       "| <!--/--> | len | supp | dose |\n",
       "|---|---|---|---|\n",
       "| 55 | 24.8 | OJ   | 2    |\n",
       "| 56 | 30.9 | OJ   | 2    |\n",
       "| 57 | 26.4 | OJ   | 2    |\n",
       "| 58 | 27.3 | OJ   | 2    |\n",
       "| 59 | 29.4 | OJ   | 2    |\n",
       "| 60 | 23.0 | OJ   | 2    |\n",
       "\n"
      ],
      "text/plain": [
       "   len  supp dose\n",
       "55 24.8 OJ   2   \n",
       "56 30.9 OJ   2   \n",
       "57 26.4 OJ   2   \n",
       "58 27.3 OJ   2   \n",
       "59 29.4 OJ   2   \n",
       "60 23.0 OJ   2   "
      ]
     },
     "metadata": {},
     "output_type": "display_data"
    }
   ],
   "source": [
    "tail(ToothGrowth)"
   ]
  },
  {
   "cell_type": "code",
   "execution_count": 68,
   "id": "variable-dodge",
   "metadata": {},
   "outputs": [
    {
     "ename": "ERROR",
     "evalue": "Error in ggplot(df2, aes(dose, len)): 객체 'df2'를 찾을 수 없습니다\n",
     "output_type": "error",
     "traceback": [
      "Error in ggplot(df2, aes(dose, len)): 객체 'df2'를 찾을 수 없습니다\nTraceback:\n",
      "1. ggplot(df2, aes(dose, len))"
     ]
    }
   ],
   "source": []
  },
  {
   "cell_type": "code",
   "execution_count": null,
   "id": "turkish-quest",
   "metadata": {},
   "outputs": [],
   "source": []
  }
 ],
 "metadata": {
  "kernelspec": {
   "display_name": "R",
   "language": "R",
   "name": "ir"
  },
  "language_info": {
   "codemirror_mode": "r",
   "file_extension": ".r",
   "mimetype": "text/x-r-source",
   "name": "R",
   "pygments_lexer": "r",
   "version": "3.6.1"
  }
 },
 "nbformat": 4,
 "nbformat_minor": 5
}
